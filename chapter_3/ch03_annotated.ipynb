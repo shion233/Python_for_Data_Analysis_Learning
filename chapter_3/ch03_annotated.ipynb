{
 "cells": [
  {
   "cell_type": "markdown",
   "metadata": {},
   "source": [
    "# 利用Python进行数据分析（第二版）——第三章 - IPython与数据结构\n",
    "\n",
    "本笔记基于《利用Python进行数据分析（第二版）》第三章，涵盖IPython基础、Python核心数据结构（如元组、列表、字典、集合）以及函数、生成器、异常处理和文件操作等内容。以下内容通过代码示例、注释和Markdown说明，旨在帮助复习和加深理解。\n",
    "\n",
    "## 1. 元组 (Tuple)\n",
    "#### p68\n",
    "元组是Python中不可变的序列类型，适合存储固定数据。元组使用括号 `()` 定义，元素之间用逗号分隔。元组支持索引、切片和解包操作，但不能修改其内容。"
   ]
  },
  {
   "cell_type": "code",
   "execution_count": null,
   "metadata": {},
   "outputs": [],
   "source": [
    "# 定义一个简单的元组\n",
    "tup = (4, 5, 6)\n",
    "tup  # 输出元组内容"
   ]
  },
  {
   "cell_type": "code",
   "execution_count": null,
   "metadata": {},
   "outputs": [],
   "source": [
    "# 省略括号的元组定义方式，效果相同\n",
    "tup = 4, 5, 6\n",
    "tup"
   ]
  },
  {
   "cell_type": "code",
   "execution_count": null,
   "metadata": {},
   "outputs": [],
   "source": [
    "# 将列表或字符串转换为元组\n",
    "tuple([4, 0, 2])  # 将列表转换为元组\n",
    "tup = tuple('string')  # 将字符串的每个字符转换为元组元素\n",
    "tup"
   ]
  },
  {
   "cell_type": "code",
   "execution_count": null,
   "metadata": {},
   "outputs": [],
   "source": [
    "# 访问元组元素（从0开始索引）\n",
    "tup[0]  # 获取第一个元素"
   ]
  },
  {
   "cell_type": "code",
   "execution_count": null,
   "metadata": {},
   "outputs": [],
   "source": [
    "# 嵌套元组（元组中包含元组）\n",
    "nested_tup = (4, 5, 6), (7, 8)\n",
    "nested_tup  # 输出嵌套元组\n",
    "nested_tup[0]  # 访问第一个子元组\n",
    "nested_tup[1]  # 访问第二个子元组"
   ]
  },
  {
   "cell_type": "code",
   "execution_count": null,
   "metadata": {},
   "outputs": [],
   "source": [
    "# 元组是不可变的，尝试修改会报错\n",
    "tup = tuple(['foo', [1, 2], True])\n",
    "# tup[2] = False  # 这一行会触发 TypeError，因为元组元素不可更改"
   ]
  },
  {
   "cell_type": "code",
   "execution_count": null,
   "metadata": {},
   "outputs": [],
   "source": [
    "# 元组中的可变对象（如列表）可以被修改\n",
    "tup[1].append(3)  # 向元组中的列表追加元素\n",
    "tup  # 输出修改后的元组"
   ]
  },
  {
   "cell_type": "code",
   "execution_count": null,
   "metadata": {},
   "outputs": [],
   "source": [
    "# 元组拼接（使用 + 运算符）\n",
    "(4, None, 'foo') + (6, 0) + ('bar',)  # 注意单个元素元组需要加逗号"
   ]
  },
  {
   "cell_type": "code",
   "execution_count": null,
   "metadata": {},
   "outputs": [],
   "source": [
    "# 元组重复（使用 * 运算符）\n",
    "('foo', 'bar') * 4  # 重复4次"
   ]
  },
  {
   "cell_type": "code",
   "execution_count": null,
   "metadata": {},
   "outputs": [],
   "source": [
    "# 元组解包（将元组元素赋值给变量）\n",
    "tup = (4, 5, 6)\n",
    "a, b, c = tup  # 解包到变量 a, b, c\n",
    "b  # 输出变量 b 的值"
   ]
  },
  {
   "cell_type": "code",
   "execution_count": null,
   "metadata": {},
   "outputs": [],
   "source": [
    "# 嵌套元组的解包\n",
    "tup = 4, 5, (6, 7)\n",
    "a, b, (c, d) = tup  # 解包嵌套元组\n",
    "d  # 输出变量 d 的值"
   ]
  },
  {
   "cell_type": "code",
   "execution_count": null,
   "metadata": {},
   "outputs": [],
   "source": [
    "# 使用解包交换变量值（无需临时变量）\n",
    "a, b = 1, 2\n",
    "b, a = a, b  # 交换 a 和 b 的值\n",
    "a, b  # 输出交换后的值"
   ]
  },
  {
   "cell_type": "code",
   "execution_count": null,
   "metadata": {},
   "outputs": [],
   "source": [
    "# 遍历元组列表并解包\n",
    "seq = [(1, 2, 3), (4, 5, 6), (7, 8, 9)]\n",
    "for a, b, c in seq:\n",
    "    print(f'a={a}, b={b}, c={c}')  # 格式化输出每个元组的元素"
   ]
  },
  {
   "cell_type": "code",
   "execution_count": null,
   "metadata": {},
   "outputs": [],
   "source": [
    "# 使用 * 捕获剩余元素（rest 收集多余元素）\n",
    "values = 1, 2, 3, 4, 5\n",
    "a, b, *rest = values  # a=1, b=2, rest=[3, 4, 5]\n",
    "rest  # 输出剩余元素"
   ]
  },
  {
   "cell_type": "code",
   "execution_count": null,
   "metadata": {},
   "outputs": [],
   "source": [
    "# 使用 * 忽略剩余元素（_ 表示忽略）\n",
    "a, b, *_ = values\n",
    "a, b  # 输出 a 和 b"
   ]
  },
  {
   "cell_type": "code",
   "execution_count": null,
   "metadata": {},
   "outputs": [],
   "source": [
    "# 统计元组中某个元素的出现次数\n",
    "a = (1, 2, 2, 2, 3, 4, 2)\n",
    "a.count(2)  # 统计元素 2 出现的次数"
   ]
  },
  {
   "cell_type": "markdown",
   "metadata": {},
   "source": [
    "## 2. 列表 (List)\n",
    "#### p72\n",
    "列表是可变的序列类型，适合存储动态数据。列表使用方括号 `[]` 定义，支持添加、删除、修改元素，以及切片和排序等操作。"
   ]
  },
  {
   "cell_type": "code",
   "execution_count": null,
   "metadata": {},
   "outputs": [],
   "source": [
    "# 定义列表并将元组转换为列表\n",
    "a_list = [2, 3, 7, None]\n",
    "tup = (\"foo\", \"bar\", \"baz\")\n",
    "b_list = list(tup)  # 将元组转换为列表\n",
    "b_list[1] = \"peekaboo\"  # 修改列表元素\n",
    "b_list  # 输出修改后的列表"
   ]
  },
  {
   "cell_type": "code",
   "execution_count": null,
   "metadata": {},
   "outputs": [],
   "source": [
    "# 将 range 对象转换为列表\n",
    "gen = range(10)  # 生成 0 到 9 的范围\n",
    "list(gen)  # 转换为列表"
   ]
  },
  {
   "cell_type": "code",
   "execution_count": null,
   "metadata": {},
   "outputs": [],
   "source": [
    "# 在列表末尾添加元素\n",
    "b_list.append(\"dwarf\")  # 添加新元素\n",
    "b_list"
   ]
  },
  {
   "cell_type": "code",
   "execution_count": null,
   "metadata": {},
   "outputs": [],
   "source": [
    "# 在指定位置插入元素\n",
    "b_list.insert(1, \"red\")  # 在索引 1 插入 \"red\"\n",
    "b_list"
   ]
  },
  {
   "cell_type": "code",
   "execution_count": null,
   "metadata": {},
   "outputs": [],
   "source": [
    "# 删除指定位置的元素并返回\n",
    "b_list.pop(2)  # 删除索引 2 的元素\n",
    "b_list"
   ]
  },
  {
   "cell_type": "code",
   "execution_count": null,
   "metadata": {},
   "outputs": [],
   "source": [
    "# 删除第一次出现的指定元素\n",
    "b_list.append(\"foo\")  # 添加 \"foo\"\n",
    "b_list.remove(\"foo\")  # 删除第一个 \"foo\"\n",
    "b_list"
   ]
  },
  {
   "cell_type": "code",
   "execution_count": null,
   "metadata": {},
   "outputs": [],
   "source": [
    "# 检查元素是否在列表中\n",
    "\"dwarf\" in b_list  # 返回 True 或 False"
   ]
  },
  {
   "cell_type": "code",
   "execution_count": null,
   "metadata": {},
   "outputs": [],
   "source": [
    "# 检查元素是否不在列表中\n",
    "\"dwarf\" not in b_list  # 返回 True 或 False"
   ]
  },
  {
   "cell_type": "markdown",
   "metadata": {},
   "source": [
    "## 3. 列表的串联和组合\n",
    "#### p75\n",
    "列表支持通过 `+` 运算符拼接，或使用 `extend()` 方法合并多个元素。`append()` 将对象作为一个整体添加，而 `extend()` 将可迭代对象的元素逐个添加。"
   ]
  },
  {
   "cell_type": "code",
   "execution_count": null,
   "metadata": {},
   "outputs": [],
   "source": [
    "# 使用 + 拼接列表\n",
    "[4, None, \"foo\"] + [7, 8, (2, 3)]"
   ]
  },
  {
   "cell_type": "code",
   "execution_count": null,
   "metadata": {},
   "outputs": [],
   "source": [
    "# 使用 extend 合并列表\n",
    "x = [4, None, \"foo\"]\n",
    "x.extend([7, 8, (2, 3)])  # 将元素逐个添加到 x\n",
    "x"
   ]
  },
  {
   "cell_type": "markdown",
   "metadata": {},
   "source": [
    "## 4. 列表排序\n",
    "#### p75\n",
    "列表的 `sort()` 方法可以对元素进行原地排序，支持自定义排序规则（如按长度排序）。"
   ]
  },
  {
   "cell_type": "code",
   "execution_count": null,
   "metadata": {},
   "outputs": [],
   "source": [
    "# 默认排序（升序）\n",
    "a = [7, 2, 5, 1, 3]\n",
    "a.sort()  # 原地排序\n",
    "a"
   ]
  },
  {
   "cell_type": "code",
   "execution_count": null,
   "metadata": {},
   "outputs": [],
   "source": [
    "# 按字符串长度排序\n",
    "b = [\"saw\", \"small\", \"He\", \"foxes\", \"six\"]\n",
    "b.sort(key=len)  # 按 len 函数返回值排序\n",
    "b"
   ]
  },
  {
   "cell_type": "markdown",
   "metadata": {},
   "source": [
    "## 5. 列表切片\n",
    "#### p77\n",
    "切片用于提取列表的子序列，格式为 `seq[start:stop:step]`，其中 `start` 是起始索引，`stop` 是结束索引（不包含），`step` 是步长。"
   ]
  },
  {
   "cell_type": "code",
   "execution_count": null,
   "metadata": {},
   "outputs": [],
   "source": [
    "# 基本切片\n",
    "seq = [7, 2, 3, 7, 5, 6, 0, 1]\n",
    "seq[1:5]  # 获取索引 1 到 4 的元素"
   ]
  },
  {
   "cell_type": "code",
   "execution_count": null,
   "metadata": {},
   "outputs": [],
   "source": [
    "# 使用切片替换元素\n",
    "seq[3:5] = [6, 3]  # 替换索引 3 到 4 的元素\n",
    "seq"
   ]
  },
  {
   "cell_type": "code",
   "execution_count": null,
   "metadata": {},
   "outputs": [],
   "source": [
    "# 省略 start 或 stop\n",
    "seq[:5]  # 从开头到索引 4\n",
    "seq[3:]  # 从索引 3 到结尾"
   ]
  },
  {
   "cell_type": "code",
   "execution_count": null,
   "metadata": {},
   "outputs": [],
   "source": [
    "# 使用负索引\n",
    "seq[-4:]  # 最后 4 个元素\n",
    "seq[-6:-2]  # 倒数第 6 到倒数第 3 个元素"
   ]
  },
  {
   "cell_type": "code",
   "execution_count": null,
   "metadata": {},
   "outputs": [],
   "source": [
    "# 使用步长\n",
    "seq[::2]  # 每隔一个元素取一个"
   ]
  },
  {
   "cell_type": "code",
   "execution_count": null,
   "metadata": {},
   "outputs": [],
   "source": [
    "# 反转列表\n",
    "seq[::-1]  # 步长为 -1，反向取所有元素"
   ]
  },
  {
   "cell_type": "markdown",
   "metadata": {},
   "source": [
    "## 6. 字典 (Dictionary)\n",
    "#### p81\n",
    "字典是键值对的集合，键必须是可哈希的对象（如字符串、整数、元组），值可以是任意Python对象。字典使用花括号 `{}` 定义。"
   ]
  },
  {
   "cell_type": "code",
   "execution_count": null,
   "metadata": {},
   "outputs": [],
   "source": [
    "# 定义字典\n",
    "empty_dict = {}  # 空字典\n",
    "d1 = {\"a\": \"some value\", \"b\": [1, 2, 3, 4]}  # 键值对\n",
    "d1"
   ]
  },
  {
   "cell_type": "code",
   "execution_count": null,
   "metadata": {},
   "outputs": [],
   "source": [
    "# 添加和访问字典元素\n",
    "d1[7] = \"an integer\"  # 添加新键值对\n",
    "d1[\"b\"]  # 访问键 'b' 的值"
   ]
  },
  {
   "cell_type": "code",
   "execution_count": null,
   "metadata": {},
   "outputs": [],
   "source": [
    "# 检查键是否存在\n",
    "\"b\" in d1  # 返回 True 或 False"
   ]
  },
  {
   "cell_type": "code",
   "execution_count": null,
   "metadata": {},
   "outputs": [],
   "source": [
    "# 删除字典元素\n",
    "d1[5] = \"some value\"\n",
    "d1[\"dummy\"] = \"another value\"\n",
    "del d1[5]  # 使用 del 删除键 5\n",
    "ret = d1.pop(\"dummy\")  # 使用 pop 删除并返回键 'dummy' 的值\n",
    "d1"
   ]
  },
  {
   "cell_type": "code",
   "execution_count": null,
   "metadata": {},
   "outputs": [],
   "source": [
    "# 获取键和值的列表\n",
    "list(d1.keys())  # 所有键\n",
    "list(d1.values())  # 所有值"
   ]
  },
  {
   "cell_type": "code",
   "execution_count": null,
   "metadata": {},
   "outputs": [],
   "source": [
    "# 获取键值对\n",
    "list(d1.items())  # 返回 (键, 值) 元组列表"
   ]
  },
  {
   "cell_type": "code",
   "execution_count": null,
   "metadata": {},
   "outputs": [],
   "source": [
    "# 更新字典（合并另一个字典）\n",
    "d1.update({\"b\": \"foo\", \"c\": 12})  # 更新或添加键值对\n",
    "d1"
   ]
  },
  {
   "cell_type": "code",
   "execution_count": null,
   "metadata": {},
   "outputs": [],
   "source": [
    "# 使用 zip 创建字典\n",
    "tuples = zip(range(5), reversed(range(5)))  # 配对两个序列\n",
    "mapping = dict(tuples)  # 转换为字典\n",
    "mapping"
   ]
  },
  {
   "cell_type": "markdown",
   "metadata": {},
   "source": [
    "## 7. 字典的默认值\n",
    "#### p84\n",
    "字典的 `get()` 和 `setdefault()` 方法可以处理缺失键的情况。`collections.defaultdict` 提供了一种更简洁的方式来处理默认值。"
   ]
  },
  {
   "cell_type": "code",
   "execution_count": null,
   "metadata": {},
   "outputs": [],
   "source": [
    "# 手动实现按首字母分组\n",
    "words = [\"apple\", \"bat\", \"bar\", \"atom\", \"book\"]\n",
    "by_letter = {}\n",
    "for word in words:\n",
    "    letter = word[0]\n",
    "    if letter not in by_letter:\n",
    "        by_letter[letter] = [word]  # 初始化为空列表\n",
    "    else:\n",
    "        by_letter[letter].append(word)  # 添加到现有列表\n",
    "by_letter"
   ]
  },
  {
   "cell_type": "code",
   "execution_count": null,
   "metadata": {},
   "outputs": [],
   "source": [
    "# 使用 get 获取默认值\n",
    "by_letter.get(4, 10)  # 如果键 4 不存在，返回 10"
   ]
  },
  {
   "cell_type": "code",
   "execution_count": null,
   "metadata": {},
   "outputs": [],
   "source": [
    "# 使用 setdefault 简化代码\n",
    "by_letter = {}\n",
    "for word in words:\n",
    "    letter = word[0]\n",
    "    by_letter.setdefault(letter, []).append(word)  # 若键不存在，设置为 []\n",
    "by_letter"
   ]
  },
  {
   "cell_type": "code",
   "execution_count": null,
   "metadata": {},
   "outputs": [],
   "source": [
    "# 使用 defaultdict 进一步简化\n",
    "from collections import defaultdict\n",
    "by_letter = defaultdict(list)  # 默认值为空列表\n",
    "for word in words:\n",
    "    by_letter[word[0]].append(word)  # 直接添加，无需检查键\n",
    "by_letter"
   ]
  },
  {
   "cell_type": "code",
   "execution_count": null,
   "metadata": {},
   "outputs": [],
   "source": [
    "# 检查对象的哈希性（键必须可哈希）\n",
    "hash(\"string\")  # 字符串是可哈希的\n",
    "hash((1, 2, (2, 3)))  # 不可变元组是可哈希的\n",
    "# hash((1, 2, [2, 3]))  # 包含列表的元组不可哈希，会报错"
   ]
  },
  {
   "cell_type": "code",
   "execution_count": null,
   "metadata": {},
   "outputs": [],
   "source": [
    "# 使用元组作为字典键\n",
    "d = {}\n",
    "d[tuple([1, 2, 3])] = 5  # 列表转换为元组作为键\n",
    "d"
   ]
  },
  {
   "cell_type": "markdown",
   "metadata": {},
   "source": [
    "## 8. 集合 (Set)\n",
    "#### p86\n",
    "集合是无序的、唯一元素的集合，支持集合运算（如并集、交集）。集合使用 `set()` 或 `{}` 定义。"
   ]
  },
  {
   "cell_type": "code",
   "execution_count": null,
   "metadata": {},
   "outputs": [],
   "source": [
    "# 创建集合（自动去重）\n",
    "set([2, 2, 2, 1, 3, 3])  # 等价于 {1, 2, 3}\n",
    "{2, 2, 2, 1, 3, 3}"
   ]
  },
  {
   "cell_type": "code",
   "execution_count": null,
   "metadata": {},
   "outputs": [],
   "source": [
    "# 定义两个集合\n",
    "a = {1, 2, 3, 4, 5}\n",
    "b = {3, 4, 5, 6, 7, 8}"
   ]
  },
  {
   "cell_type": "code",
   "execution_count": null,
   "metadata": {},
   "outputs": [],
   "source": [
    "# 并集\n",
    "a.union(b)  # 或 a | b\n",
    "a | b"
   ]
  },
  {
   "cell_type": "code",
   "execution_count": null,
   "metadata": {},
   "outputs": [],
   "source": [
    "# 交集\n",
    "a.intersection(b)  # 或 a & b\n",
    "a & b"
   ]
  },
  {
   "cell_type": "code",
   "execution_count": null,
   "metadata": {},
   "outputs": [],
   "source": [
    "# 集合的更新操作\n",
    "c = a.copy()  # 复制集合 a\n",
    "c |= b  # 更新 c 为 a 和 b 的并集\n",
    "c\n",
    "d = a.copy()\n",
    "d &= b  # 更新 d 为 a 和 b 的交集\n",
    "d"
   ]
  },
  {
   "cell_type": "code",
   "execution_count": null,
   "metadata": {},
   "outputs": [],
   "source": [
    "# 将列表转换为集合（元素需可哈希）\n",
    "my_data = [1, 2, 3, 4]\n",
    "my_set = {tuple(my_data)}  # 整个列表转为元组作为集合元素\n",
    "my_set"
   ]
  },
  {
   "cell_type": "code",
   "execution_count": null,
   "metadata": {},
   "outputs": [],
   "source": [
    "# 子集和超集检查\n",
    "a_set = {1, 2, 3, 4, 5}\n",
    "{1, 2, 3}.issubset(a_set)  # 检查是否为子集\n",
    "a_set.issuperset({1, 2, 3})  # 检查是否为超集"
   ]
  },
  {
   "cell_type": "code",
   "execution_count": null,
   "metadata": {},
   "outputs": [],
   "source": [
    "# 集合相等性（忽略顺序）\n",
    "{1, 2, 3} == {3, 2, 1}  # 集合元素相同即相等"
   ]
  },
  {
   "cell_type": "markdown",
   "metadata": {},
   "source": [
    "## 9. 序列函数\n",
    "#### p79\n",
    "Python提供了一些内置函数（如 `sorted()`, `zip()`, `enumerate()`）来处理序列，简化数据操作。"
   ]
  },
  {
   "cell_type": "code",
   "execution_count": null,
   "metadata": {},
   "outputs": [],
   "source": [
    "# 排序（返回新列表）\n",
    "sorted([7, 1, 2, 6, 0, 3, 2])  # 数字排序\n",
    "sorted(\"horse race\")  # 字符串按字符排序"
   ]
  },
  {
   "cell_type": "code",
   "execution_count": null,
   "metadata": {},
   "outputs": [],
   "source": [
    "# 使用 zip 配对多个序列\n",
    "seq1 = [\"foo\", \"bar\", \"baz\"]\n",
    "seq2 = [\"one\", \"two\", \"three\"]\n",
    "zipped = zip(seq1, seq2)  # 创建配对迭代器\n",
    "list(zipped)  # 转换为列表"
   ]
  },
  {
   "cell_type": "code",
   "execution_count": null,
   "metadata": {},
   "outputs": [],
   "source": [
    "# zip 配对不同长度的序列（以最短序列为准）\n",
    "seq3 = [False, True]\n",
    "list(zip(seq1, seq2, seq3))"
   ]
  },
  {
   "cell_type": "code",
   "execution_count": null,
   "metadata": {},
   "outputs": [],
   "source": [
    "# 结合 enumerate 和 zip 遍历\n",
    "for index, (a, b) in enumerate(zip(seq1, seq2)):\n",
    "    print(f\"{index}: {a}, {b}\")  # 输出索引和配对元素"
   ]
  },
  {
   "cell_type": "code",
   "execution_count": null,
   "metadata": {},
   "outputs": [],
   "source": [
    "# 反转序列\n",
    "list(reversed(range(10)))  # 从 9 到 0"
   ]
  },
  {
   "cell_type": "markdown",
   "metadata": {},
   "source": [
    "## 10. 推导式\n",
    "#### p89\n",
    "列表、集合和字典推导式提供了一种简洁的方式来创建新数据结构，通常比循环更高效。"
   ]
  },
  {
   "cell_type": "code",
   "execution_count": null,
   "metadata": {},
   "outputs": [],
   "source": [
    "# 列表推导式（筛选并转换）\n",
    "strings = [\"a\", \"as\", \"bat\", \"car\", \"dove\", \"python\"]\n",
    "[x.upper() for x in strings if len(x) > 2]  # 筛选长度大于2的字符串并转为大写"
   ]
  },
  {
   "cell_type": "code",
   "execution_count": null,
   "metadata": {},
   "outputs": [],
   "source": [
    "# 集合推导式（获取唯一长度）\n",
    "unique_lengths = {len(x) for x in strings}  # 提取字符串长度的唯一值\n",
    "unique_lengths"
   ]
  },
  {
   "cell_type": "code",
   "execution_count": null,
   "metadata": {},
   "outputs": [],
   "source": [
    "# 使用 map 和 set 获取唯一长度\n",
    "set(map(len, strings))  # 等价于集合推导式"
   ]
  },
  {
   "cell_type": "code",
   "execution_count": null,
   "metadata": {},
   "outputs": [],
   "source": [
    "# 字典推导式（创建字符串到索引的映射）\n",
    "loc_mapping = {value: index for index, value in enumerate(strings)}\n",
    "loc_mapping"
   ]
  },
  {
   "cell_type": "markdown",
   "metadata": {},
   "source": [
    "## 11. 嵌套列表推导式\n",
    "#### p91\n",
    "嵌套推导式可以处理多层数据结构，逻辑上等价于嵌套循环，但更简洁。"
   ]
  },
  {
   "cell_type": "code",
   "execution_count": null,
   "metadata": {},
   "outputs": [],
   "source": [
    "# 定义嵌套数据\n",
    "all_data = [[\"John\", \"Emily\", \"Michael\", \"Mary\", \"Steven\"],\n",
    "            [\"Maria\", \"Juan\", \"Javier\", \"Natalia\", \"Pilar\"]]"
   ]
  },
  {
   "cell_type": "code",
   "execution_count": null,
   "metadata": {},
   "outputs": [],
   "source": [
    "# 使用循环筛选包含至少两个 'a' 的名字\n",
    "names_of_interest = []\n",
    "for names in all_data:\n",
    "    enough_as = [name for name in names if name.count(\"a\") >= 2]\n",
    "    names_of_interest.extend(enough_as)\n",
    "names_of_interest"
   ]
  },
  {
   "cell_type": "code",
   "execution_count": null,
   "metadata": {},
   "outputs": [],
   "source": [
    "# 使用嵌套列表推导式实现相同功能\n",
    "result = [name for names in all_data for name in names if name.count(\"a\") >= 2]\n",
    "result"
   ]
  },
  {
   "cell_type": "code",
   "execution_count": null,
   "metadata": {},
   "outputs": [],
   "source": [
    "# 展平元组列表\n",
    "some_tuples = [(1, 2, 3), (4, 5, 6), (7, 8, 9)]\n",
    "flattened = [x for tup in some_tuples for x in tup]  # 展平为单一列表\n",
    "flattened"
   ]
  },
  {
   "cell_type": "code",
   "execution_count": null,
   "metadata": {},
   "outputs": [],
   "source": [
    "# 等价的循环实现\n",
    "flattened = []\n",
    "for tup in some_tuples:\n",
    "    for x in tup:\n",
    "        flattened.append(x)\n",
    "flattened"
   ]
  },
  {
   "cell_type": "code",
   "execution_count": null,
   "metadata": {},
   "outputs": [],
   "source": [
    "# 嵌套推导式生成列表的列表\n",
    "[[x for x in tup] for tup in some_tuples]  # 保持子列表结构"
   ]
  },
  {
   "cell_type": "markdown",
   "metadata": {},
   "source": [
    "## 12. 函数\n",
    "#### p94\n",
    "函数是Python中组织代码的基本单元，支持参数、默认值和返回值。函数通过 `def` 关键字定义。"
   ]
  },
  {
   "cell_type": "code",
   "execution_count": null,
   "metadata": {},
   "outputs": [],
   "source": [
    "# 定义简单函数\n",
    "def my_function(x, y):\n",
    "    return x + y  # 返回两个参数的和"
   ]
  },
  {
   "cell_type": "code",
   "execution_count": null,
   "metadata": {},
   "outputs": [],
   "source": [
    "# 调用函数\n",
    "result = my_function(1, 2)\n",
    "result"
   ]
  },
  {
   "cell_type": "code",
   "execution_count": null,
   "metadata": {},
   "outputs": [],
   "source": [
    "# 没有返回值的函数（默认返回 None）\n",
    "def function_without_return(x):\n",
    "    print(x)\n",
    "\n",
    "result = function_without_return(\"hello!\")\n",
    "print(result)  # 输出 None"
   ]
  },
  {
   "cell_type": "code",
   "execution_count": null,
   "metadata": {},
   "outputs": [],
   "source": [
    "# 带默认参数的函数\n",
    "def my_function2(x, y, z=1.5):\n",
    "    if z > 1:\n",
    "        return z * (x + y)  # z 大于 1 时返回 z 乘以 (x + y)\n",
    "    else:\n",
    "        return z / (x + y)  # 否则返回 z 除以 (x + y)"
   ]
  },
  {
   "cell_type": "code",
   "execution_count": null,
   "metadata": {},
   "outputs": [],
   "source": [
    "# 测试不同参数调用\n",
    "my_function2(5, 6, z=0.7)  # z 小于 1\n",
    "my_function2(3.14, 7, 3.5)  # z 大于 1\n",
    "my_function2(10, 20)  # 使用默认 z=1.5"
   ]
  },
  {
   "cell_type": "markdown",
   "metadata": {},
   "source": [
    "## 13. 命名空间与作用域\n",
    "#### p93\n",
    "Python的变量作用域分为局部和全局。`global` 关键字可以修改全局变量，但应谨慎使用。"
   ]
  },
  {
   "cell_type": "code",
   "execution_count": null,
   "metadata": {},
   "outputs": [],
   "source": [
    "# 函数修改全局变量（不推荐）\n",
    "a = []\n",
    "def func():\n",
    "    for i in range(5):\n",
    "        a.append(i)  # 修改全局列表 a\n",
    "\n",
    "func()\n",
    "a  # 输出 [0, 1, 2, 3, 4]\n",
    "func()\n",
    "a  # 输出 [0, 1, 2, 3, 4, 0, 1, 2, 3, 4]"
   ]
  },
  {
   "cell_type": "code",
   "execution_count": null,
   "metadata": {},
   "outputs": [],
   "source": [
    "# 使用 global 关键字显式声明全局变量\n",
    "a = None\n",
    "def bind_a_variable():\n",
    "    global a\n",
    "    a = []  # 修改全局变量 a\n",
    "bind_a_variable()\n",
    "print(a)  # 输出 []"
   ]
  },
  {
   "cell_type": "markdown",
   "metadata": {},
   "source": [
    "## 14. 函数作为对象\n",
    "#### p95\n",
    "Python的函数是一等公民，可以作为参数传递、存储在数据结构中，用于实现灵活的代码逻辑。"
   ]
  },
  {
   "cell_type": "code",
   "execution_count": null,
   "metadata": {},
   "outputs": [],
   "source": [
    "# 定义待清理的字符串列表\n",
    "states = [\"   Alabama \", \"Georgia!\", \"Georgia\", \"georgia\", \"FlOrIda\",\n",
    "          \"south   carolina##\", \"West virginia?\"]"
   ]
  },
  {
   "cell_type": "code",
   "execution_count": null,
   "metadata": {},
   "outputs": [],
   "source": [
    "# 清理字符串的函数（去空格、标点，标题化）\n",
    "import re\n",
    "\n",
    "def clean_strings(strings):\n",
    "    result = []\n",
    "    for value in strings:\n",
    "        value = value.strip()  # 去除首尾空格\n",
    "        value = re.sub(\"[!#?]\", \"\", value)  # 移除标点\n",
    "        value = value.title()  # 转换为标题格式\n",
    "        result.append(value)\n",
    "    return result\n",
    "\n",
    "clean_strings(states)"
   ]
  },
  {
   "cell_type": "code",
   "execution_count": null,
   "metadata": {},
   "outputs": [],
   "source": [
    "# 使用函数列表动态清理字符串\n",
    "def remove_punctuation(value):\n",
    "    return re.sub(\"[!#?]\", \"\", value)\n",
    "\n",
    "clean_ops = [str.strip, remove_punctuation, str.title]  # 操作列表\n",
    "\n",
    "def clean_strings(strings, ops):\n",
    "    result = []\n",
    "    for value in strings:\n",
    "        for func in ops:\n",
    "            value = func(value)  # 依次应用每个函数\n",
    "        result.append(value)\n",
    "    return result\n",
    "\n",
    "clean_strings(states, clean_ops)"
   ]
  },
  {
   "cell_type": "code",
   "execution_count": null,
   "metadata": {},
   "outputs": [],
   "source": [
    "# 使用 map 应用函数\n",
    "for x in map(remove_punctuation, states):\n",
    "    print(x)  # 逐个移除标点并打印"
   ]
  },
  {
   "cell_type": "markdown",
   "metadata": {},
   "source": [
    "## 15. 匿名函数 (Lambda)\n",
    "#### p98\n",
    "Lambda 函数是简短的匿名函数，适合简单的操作，通常用于函数参数或推导式。"
   ]
  },
  {
   "cell_type": "code",
   "execution_count": null,
   "metadata": {},
   "outputs": [],
   "source": [
    "# 普通函数与等价的 Lambda 函数\n",
    "def short_function(x):\n",
    "    return x * 2\n",
    "\n",
    "equiv_anon = lambda x: x * 2  # 等价的 Lambda 函数"
   ]
  },
  {
   "cell_type": "code",
   "execution_count": null,
   "metadata": {},
   "outputs": [],
   "source": [
    "# 将 Lambda 函数应用于列表\n",
    "def apply_to_list(some_list, f):\n",
    "    return [f(x) for x in some_list]\n",
    "\n",
    "ints = [4, 0, 1, 5, 6]\n",
    "apply_to_list(ints, lambda x: x * 2)  # 每个元素乘以 2"
   ]
  },
  {
   "cell_type": "code",
   "execution_count": null,
   "metadata": {},
   "outputs": [],
   "source": [
    "# 使用 Lambda 函数排序\n",
    "strings = [\"foo\", \"card\", \"bar\", \"aaaa\", \"abab\"]\n",
    "strings.sort(key=lambda x: len(set(x)))  # 按唯一字符数量排序\n",
    "strings"
   ]
  },
  {
   "cell_type": "markdown",
   "metadata": {},
   "source": [
    "## 16. 生成器 (Generator)\n",
    "#### p100\n",
    "生成器是一种惰性计算的迭代器，使用 `yield` 关键字逐个生成值，适合处理大数据量场景。"
   ]
  },
  {
   "cell_type": "code",
   "execution_count": null,
   "metadata": {},
   "outputs": [],
   "source": [
    "# 字典迭代器\n",
    "some_dict = {\"a\": 1, \"b\": 2, \"c\": 3}\n",
    "for key in some_dict:\n",
    "    print(key)  # 迭代字典的键"
   ]
  },
  {
   "cell_type": "code",
   "execution_count": null,
   "metadata": {},
   "outputs": [],
   "source": [
    "# 显式创建字典迭代器\n",
    "dict_iterator = iter(some_dict)\n",
    "list(dict_iterator)  # 转换为列表"
   ]
  },
  {
   "cell_type": "code",
   "execution_count": null,
   "metadata": {},
   "outputs": [],
   "source": [
    "# 定义生成器函数\n",
    "def squares(n=10):\n",
    "    print(f\"Generating squares from 1 to {n ** 2}\")\n",
    "    for i in range(1, n + 1):\n",
    "        yield i ** 2  # 逐个生成平方值\n",
    "\n",
    "gen = squares()\n",
    "for x in gen:\n",
    "    print(x, end=\" \")  # 输出 1 4 9 ... 100"
   ]
  },
  {
   "cell_type": "markdown",
   "metadata": {},
   "source": [
    "## 17. 生成器表达式\n",
    "#### p101\n",
    "生成器表达式是生成器的简洁写法，类似于列表推导式，但使用圆括号 `()`，适合一次性迭代。"
   ]
  },
  {
   "cell_type": "code",
   "execution_count": null,
   "metadata": {},
   "outputs": [],
   "source": [
    "# 生成器表达式\n",
    "gen = (x ** 2 for x in range(100))  # 生成 0 到 99 的平方\n",
    "gen"
   ]
  },
  {
   "cell_type": "code",
   "execution_count": null,
   "metadata": {},
   "outputs": [],
   "source": [
    "# 使用生成器表达式计算总和\n",
    "sum(x ** 2 for x in range(100))  # 求 0 到 99 平方的和\n",
    "\n",
    "# 使用生成器表达式创建字典\n",
    "dict((i, i ** 2) for i in range(5))  # {0: 0, 1: 1, 2: 4, 3: 9, 4: 16}"
   ]
  },
  {
   "cell_type": "markdown",
   "metadata": {},
   "source": [
    "## 18. itertools 模块\n",
    "#### p102\n",
    "`itertools` 模块提供了高效的迭代工具，如 `groupby()` 用于按键分组。"
   ]
  },
  {
   "cell_type": "code",
   "execution_count": null,
   "metadata": {},
   "outputs": [],
   "source": [
    "# 使用 groupby 按首字母分组\n",
    "import itertools\n",
    "def first_letter(x):\n",
    "    return x[0]\n",
    "\n",
    "names = [\"Alan\", \"Adam\", \"Wes\", \"Will\", \"Albert\", \"Steven\"]\n",
    "for letter, names in itertools.groupby(names, first_letter):\n",
    "    print(letter, list(names))  # 分组输出"
   ]
  },
  {
   "cell_type": "markdown",
   "metadata": {},
   "source": [
    "## 19. 错误和异常处理\n",
    "#### p103\n",
    "使用 `try-except` 块处理异常，避免程序崩溃。可以通过指定异常类型（如 `ValueError`）精确捕获。"
   ]
  },
  {
   "cell_type": "code",
   "execution_count": null,
   "metadata": {},
   "outputs": [],
   "source": [
    "# 尝试将字符串转换为浮点数\n",
    "float(\"1.2345\")  # 成功\n",
    "# float(\"something\")  # 报 ValueError"
   ]
  },
  {
   "cell_type": "code",
   "execution_count": null,
   "metadata": {},
   "outputs": [],
   "source": [
    "# 简单异常处理\n",
    "def attempt_float(x):\n",
    "    try:\n",
    "        return float(x)\n",
    "    except:\n",
    "        return x  # 失败时返回原值\n",
    "\n",
    "attempt_float(\"1.2345\")  # 返回 1.2345\n",
    "attempt_float(\"something\")  # 返回 \"something\""
   ]
  },
  {
   "cell_type": "code",
   "execution_count": null,
   "metadata": {},
   "outputs": [],
   "source": [
    "# 指定异常类型\n",
    "def attempt_float(x):\n",
    "    try:\n",
    "        return float(x)\n",
    "    except ValueError:\n",
    "        return x  # 只捕获 ValueError\n",
    "\n",
    "# attempt_float((1, 2))  # 仍会报 TypeError"
   ]
  },
  {
   "cell_type": "code",
   "execution_count": null,
   "metadata": {},
   "outputs": [],
   "source": [
    "# 捕获多种异常\n",
    "def attempt_float(x):\n",
    "    try:\n",
    "        return float(x)\n",
    "    except (TypeError, ValueError):\n",
    "        return x  # 捕获 TypeError 和 ValueError\n",
    "\n",
    "attempt_float((1, 2))  # 返回 (1, 2)"
   ]
  },
  {
   "cell_type": "markdown",
   "metadata": {},
   "source": [
    "## 20. 文件操作\n",
    "#### p107\n",
    "Python支持通过 `open()` 函数读写文件，结合 `with` 语句可以自动管理文件资源。"
   ]
  },
  {
   "cell_type": "code",
   "execution_count": null,
   "metadata": {},
   "outputs": [],
   "source": [
    "# 读取文件\n",
    "path = \"segismundo.txt\"\n",
    "with open(path, encoding=\"utf-8\") as f:\n",
    "    lines = [x.rstrip() for x in f]  # 读取并去除每行末尾换行符\n",
    "lines"
   ]
  },
  {
   "cell_type": "code",
   "execution_count": null,
   "metadata": {},
   "outputs": [],
   "source": [
    "# 读取文件的前几个字符\n",
    "f1 = open(path)\n",
    "f1.read(10)  # 读取前 10 个字符\n",
    "f2 = open(path, mode=\"rb\")  # 以二进制模式读取\n",
    "f2.read(10)  # 读取前 10 个字节\n",
    "\n",
    "f1.close()\n",
    "f2.close()"
   ]
  },
  {
   "cell_type": "code",
   "execution_count": null,
   "metadata": {},
   "outputs": [],
   "source": [
    "# 检查文件指针位置\n",
    "f1 = open(path, encoding='utf-8')\n",
    "f1.read(5)  # 读取 5 个字符\n",
    "f1.tell()  # 当前指针位置\n",
    "f1.seek(4)  # 移动指针到第 4 个字节\n",
    "f1.read(1)  # 读取 1 个字符\n",
    "f1.close()"
   ]
  },
  {
   "cell_type": "code",
   "execution_count": null,
   "metadata": {},
   "outputs": [],
   "source": [
    "# 写入文件（过滤短行）\n",
    "with open(\"tmp.txt\", mode=\"w\") as handle:\n",
    "    handle.writelines(x for x in open(path) if len(x) > 1)  # 写入长度大于 1 的行\n",
    "\n",
    "with open(\"tmp.txt\") as f:\n",
    "    lines = f.readlines()  # 读取所有行\n",
    "lines"
   ]
  },
  {
   "cell_type": "code",
   "execution_count": null,
   "metadata": {},
   "outputs": [],
   "source": [
    "# 删除临时文件\n",
    "import os\n",
    "os.remove(\"tmp.txt\")"
   ]
  },
  {
   "cell_type": "markdown",
   "metadata": {},
   "source": [
    "## 21. 文件的字节与编码\n",
    "#### p111\n",
    "文件操作需要注意编码问题，文本模式使用指定编码（如 UTF-8），二进制模式直接处理字节。"
   ]
  },
  {
   "cell_type": "code",
   "execution_count": null,
   "metadata": {},
   "outputs": [],
   "source": [
    "# 读取文本文件的字符\n",
    "with open(path) as f:\n",
    "    chars = f.read(10)  # 读取前 10 个字符\n",
    "chars"
   ]
  },
  {
   "cell_type": "code",
   "execution_count": null,
   "metadata": {},
   "outputs": [],
   "source": [
    "# 读取二进制文件的字节\n",
    "with open(path, mode=\"rb\") as f:\n",
    "    data = f.read(10)  # 读取前 10 个字节\n",
    "data"
   ]
  },
  {
   "cell_type": "code",
   "execution_count": null,
   "metadata": {},
   "outputs": [],
   "source": [
    "# 解码字节为字符串\n",
    "data.decode(\"utf-8\")  # 成功解码\n",
    "# data[:4].decode(\"utf-8\")  # 可能因不完整字符报错"
   ]
  },
  {
   "cell_type": "code",
   "execution_count": null,
   "metadata": {},
   "outputs": [],
   "source": [
    "# 以不同编码写入文件\n",
    "sink_path = \"sink.txt\"\n",
    "with open(path) as source:\n",
    "    with open(sink_path, \"x\", encoding=\"iso-8859-1\") as sink:\n",
    "        sink.write(source.read())  # 读取并写入新文件\n",
    "\n",
    "with open(sink_path, encoding=\"iso-8859-1\") as f:\n",
    "    print(f.read(10))  # 读取前 10 个字符\n",
    "\n",
    "os.remove(sink_path)  # 删除临时文件"
   ]
  },
  {
   "cell_type": "markdown",
   "metadata": {},
   "source": [
    "## 总结\n",
    "\n",
    "本章涵盖了Python数据分析的基础工具，包括IPython的使用、核心数据结构（元组、列表、字典、集合）、函数定义与作用域、生成器、异常处理和文件操作。这些知识点是数据分析的基石，熟练掌握可以显著提升代码效率和可读性。\n",
    "\n",
    "- **关键点**：元组不可变，列表可变；字典和集合依赖哈希；生成器适合大数据处理；异常处理确保代码健壮。\n",
    "- **建议**：多练习推导式和生成器，熟悉文件编码处理，尝试将代码模块化以提高复用性。"
   ]
  }
 ],
 "metadata": {
  "kernelspec": {
   "display_name": "Python 3 (ipykernel)",
   "language": "python",
   "name": "python3"
  },
  "language_info": {
   "codemirror_mode": {
    "name": "ipython",
    "version": 3
   },
   "file_extension": ".py",
   "mimetype": "text/x-python",
   "name": "python",
   "nbconvert_exporter": "python",
   "pygments_lexer": "ipython3",
   "version": "3.12.7"
  }
 },
 "nbformat": 4,
 "nbformat_minor": 4
}
