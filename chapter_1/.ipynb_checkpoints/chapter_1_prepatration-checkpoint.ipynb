{
 "cells": [
  {
   "cell_type": "code",
   "execution_count": 3,
   "id": "a2b4252e-742c-45b1-b190-3322b76c04cb",
   "metadata": {},
   "outputs": [
    {
     "name": "stdout",
     "output_type": "stream",
     "text": [
      "hello jupyter notebook!\n"
     ]
    }
   ],
   "source": [
    " print(\"hello jupyter notebook!\")\n",
    "an_apple=1\n",
    "an_banana=5\n"
   ]
  },
  {
   "cell_type": "markdown",
   "id": "cb3cd37c-4a1e-414c-8808-63aa2ec4b38e",
   "metadata": {},
   "source": [
    "import random\n",
    "import matplotlib.pyplot as plt\n",
    "list=[value**2 for value in range(100)]\n",
    "plt.title(\"x^2\")\n",
    "plt.plot(list,linewidth=5)\n",
    "plt.show"
   ]
  },
  {
   "cell_type": "markdown",
   "id": "4e327a06-56ed-4898-be0e-65b72690fec6",
   "metadata": {},
   "source": [
    "#大标题\n",
    "##中标题"
   ]
  },
  {
   "cell_type": "code",
   "execution_count": null,
   "id": "35bfdfa6-ecd5-44a7-b86c-a4f5335113fe",
   "metadata": {},
   "outputs": [],
   "source": []
  }
 ],
 "metadata": {
  "kernelspec": {
   "display_name": "Python 3 (ipykernel)",
   "language": "python",
   "name": "python3"
  },
  "language_info": {
   "codemirror_mode": {
    "name": "ipython",
    "version": 3
   },
   "file_extension": ".py",
   "mimetype": "text/x-python",
   "name": "python",
   "nbconvert_exporter": "python",
   "pygments_lexer": "ipython3",
   "version": "3.12.7"
  }
 },
 "nbformat": 4,
 "nbformat_minor": 5
}
