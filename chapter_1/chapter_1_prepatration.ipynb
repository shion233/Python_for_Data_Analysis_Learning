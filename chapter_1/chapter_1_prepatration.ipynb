{
 "cells": [
  {
   "cell_type": "code",
   "execution_count": 3,
   "id": "a2b4252e-742c-45b1-b190-3322b76c04cb",
   "metadata": {},
   "outputs": [
    {
     "name": "stdout",
     "output_type": "stream",
     "text": [
      "hello jupyter notebook!\n"
     ]
    }
   ],
   "source": [
    " print(\"hello jupyter notebook!\")\n",
    "an_apple=1\n",
    "an_banana=5\n"
   ]
  },
  {
   "cell_type": "code",
   "execution_count": null,
   "id": "42c7e7fb-75bd-4d0b-9921-a5d2f9984824",
   "metadata": {},
   "outputs": [],
   "source": [
    "import random\n",
    "import matplotlib.pyplot as plt\n",
    "list=[value**2 for value in range(100)]\n",
    "plt.title(\"x^2\")\n",
    "plt.plot(list,linewidth=5)\n",
    "plt.show"
   ]
  },
  {
   "cell_type": "markdown",
   "id": "4e327a06-56ed-4898-be0e-65b72690fec6",
   "metadata": {},
   "source": [
    "# 这是一级标题\n",
    "## 这是二级标题\n",
    "### 这是三级标题\n",
    "* 别忘了空格\n",
    ">* 最后执行"
   ]
  },
  {
   "cell_type": "markdown",
   "id": "6f2fcb88-4ac1-409b-97b0-032b3f13a684",
   "metadata": {},
   "source": [
    "[书作者的github](https://github.com/wesm/pydata-book)"
   ]
  },
  {
   "cell_type": "markdown",
   "id": "a0f390a1-bdf4-4cbd-9ef7-54a4b3cefa53",
   "metadata": {},
   "source": [
    "![今天的哆啦A梦](哆啦A梦.png)"
   ]
  },
  {
   "cell_type": "code",
   "execution_count": null,
   "id": "60e72c75-0a1e-425f-9432-0dfe8c0d7ead",
   "metadata": {},
   "outputs": [],
   "source": []
  }
 ],
 "metadata": {
  "kernelspec": {
   "display_name": "Python 3 (ipykernel)",
   "language": "python",
   "name": "python3"
  },
  "language_info": {
   "codemirror_mode": {
    "name": "ipython",
    "version": 3
   },
   "file_extension": ".py",
   "mimetype": "text/x-python",
   "name": "python",
   "nbconvert_exporter": "python",
   "pygments_lexer": "ipython3",
   "version": "3.12.7"
  }
 },
 "nbformat": 4,
 "nbformat_minor": 5
}
