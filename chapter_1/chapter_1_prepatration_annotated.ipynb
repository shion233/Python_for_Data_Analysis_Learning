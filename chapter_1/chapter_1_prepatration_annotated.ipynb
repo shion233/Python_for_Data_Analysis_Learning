{
    "cells": [
        {
            "cell_type": "markdown",
            "id": "intro",
            "metadata": {},
            "source": [
                "# 利用Python进行数据分析（第二版）——第一章：准备工作 (p1)\n",
                "\n",
                "## 学习目标\n",
                "本章介绍使用 Python 进行数据分析的基础准备，包括 Jupyter Notebook 的基本操作、Python 代码执行、Matplotlib 绘图以及 Markdown 语法。通过本章，你将熟悉 Jupyter 环境并掌握初步的数据可视化技巧。\n",
                "\n",
                "## 核心内容\n",
                "- **Jupyter Notebook**：交互式编程环境的基本使用。\n",
                "- **Python 基础**：变量定义与简单输出。\n",
                "- **Matplotlib 绘图**：绘制简单的数学函数图形。\n",
                "- **Markdown 语法**：编写结构化笔记以记录学习内容。"
            ]
        },
        {
            "cell_type": "markdown",
            "id": "jupyter_basics",
            "metadata": {},
            "source": [
                "## Jupyter Notebook 基本操作 (p3)\n",
                "\n",
                "以下代码展示如何在 Jupyter Notebook 中运行简单的 Python 代码，包括打印输出和变量定义。\n",
                "\n",
                "**关键点**：\n",
                "- `print()` 函数用于输出文本到控制台。\n",
                "- 变量赋值使用 `=`，无需显式声明类型。\n",
                "\n",
                "**预期输出**：\n",
                "- 打印 `hello jupyter notebook!`。\n",
                "- 定义变量 `an_apple = 1` 和 `an_banana = 5`，但无输出。"
            ]
        },
        {
            "cell_type": "code",
            "execution_count": 3,
            "id": "a2b4252e-742c-45b1-b190-3322b76c04cb",
            "metadata": {},
            "outputs": [
                {
                    "name": "stdout",
                    "output_type": "stream",
                    "text": [
                        "hello jupyter notebook!\n"
                    ]
                }
            ],
            "source": [
                "# 打印欢迎信息，测试 Jupyter Notebook 环境\n",
                "print(\"hello jupyter notebook!\")\n",
                "\n",
                "# 定义变量：一个苹果和一个香蕉的价格\n",
                "an_apple = 1  # 苹果价格为 1\n",
                "an_banana = 5  # 香蕉价格为 5"
            ]
        },
        {
            "cell_type": "markdown",
            "id": "plotting",
            "metadata": {},
            "source": [
                "## 使用 Matplotlib 绘制图形 (p5)\n",
                "\n",
                "以下代码使用 Matplotlib 绘制一个平方函数（`x^2`）的图形，展示 Python 在数据可视化中的能力。\n",
                "\n",
                "**关键点**：\n",
                "- `matplotlib.pyplot` 是 Python 中常用的绘图库。\n",
                "- 列表推导式 `[value**2 for value in range(100)]` 生成 0 到 99 的平方值。\n",
                "- `plt.plot()` 绘制折线图，`plt.title()` 设置标题，`plt.show()` 显示图形。\n",
                "\n",
                "**预期输出**：\n",
                "- 显示一个标题为 `x^2` 的图形，Y 轴为 0 到 9801（99²），线条宽度为 5。\n",
                "\n",
                "**注意**：代码中 `plt.show` 缺少括号，应为 `plt.show()`，否则图形可能不显示。"
            ]
        },
        {
            "cell_type": "code",
            "execution_count": null,
            "id": "42c7e7fb-75bd-4d0b-9921-a5d2f9984824",
            "metadata": {},
            "outputs": [],
            "source": [
                "# 导入绘图和随机数模块\n",
                "import random\n",
                "import matplotlib.pyplot as plt\n",
                "\n",
                "# 生成 0 到 99 的平方值列表\n",
                "list = [value**2 for value in range(100)]  # 列表推导式：计算 0² 到 99²\n",
                "\n",
                "# 设置图形标题和样式\n",
                "plt.title(\"x^2\")  # 标题为 x^2\n",
                "plt.plot(list, linewidth=5)  # 绘制折线图，线宽为 5\n",
                "\n",
                "# 显示图形（注意：原代码缺少括号，应为 plt.show()）\n",
                "plt.show()  # 修正为正确调用"
            ]
        },
        {
            "cell_type": "markdown",
            "id": "markdown_syntax",
            "metadata": {},
            "source": [
                "## Markdown 语法简介 (p7)\n",
                "\n",
                "以下 Markdown 展示了如何在 Jupyter Notebook 中编写结构化笔记，包括标题、列表和引用。Markdown 是一种轻量级标记语言，适合记录学习笔记和文档。\n",
                "\n",
                "**关键点**：\n",
                "- `#` 表示标题，`#` 数量决定层级（一级到六级）。\n",
                "- `*` 或 `-` 创建无序列表，需加空格。\n",
                "- `>` 用于引用，适合强调重要内容。\n",
                "\n",
                "**预期输出**：\n",
                "- 渲染为格式化的文本，包含一级到三级标题、无序列表和引用块。\n",
                "- 原笔记中的“别忘了空格”和“最后执行”提示强调 Markdown 语法细节。"
            ]
        },
        {
            "cell_type": "markdown",
            "id": "4e327a06-56ed-4898-be0e-65b72690fec6",
            "metadata": {},
            "source": [
                "### 标题与列表\n",
                "- 一级标题：`# 这是一级标题`\n",
                "- 二级标题：`## 这是二级标题`\n",
                "- 三级标题：`### 这是三级标题`\n",
                "\n",
                "### 无序列表\n",
                "* 别忘了空格：列表项前需加空格，否则无法正确渲染。\n",
                "\n",
                "> **引用**：最后执行，确保 Markdown 语法正确解析。"
            ]
        },
        {
            "cell_type": "markdown",
            "id": "resources",
            "metadata": {},
            "source": [
                "## 参考资源 (p9)\n",
                "\n",
                "以下链接指向本书作者 Wes McKinney 的 GitHub 仓库，包含《Python for Data Analysis》的代码和数据资源。\n",
                "\n",
                "**关键点**：\n",
                "- 超链接语法：`[文本](URL)`，点击文本跳转到指定 URL。\n",
                "- 访问作者的 GitHub 可获取本书的示例代码和数据集。\n",
                "\n",
                "**链接**：\n",
                "- [书作者的 GitHub](https://github.com/wesm/pydata-book)"
            ]
        },
        {
            "cell_type": "markdown",
            "id": "notes",
            "metadata": {},
            "source": [
                "## 笔记总结\n",
                "\n",
                "本笔记本记录了 Chapter 1 的学习内容，涵盖 Jupyter Notebook 的基本操作、Python 代码执行、Matplotlib 绘图和 Markdown 语法。通过这些练习，你可以：\n",
                "- 熟练使用 Jupyter Notebook 运行代码和编写笔记。\n",
                "- 掌握 Matplotlib 绘制简单图形的方法。\n",
                "- 使用 Markdown 组织学习内容，方便复习。\n",
                "\n",
                "**后续步骤**：\n",
                "- 访问作者 GitHub 获取更多资源。\n",
                "- 继续学习后续章节，深入 Python 数据分析工具（如 NumPy、Pandas）。"
            ]
        },
        {
            "cell_type": "code",
            "execution_count": null,
            "id": "60e72c75-0a1e-425f-9432-0dfe8c0d7ead",
            "metadata": {},
            "outputs": [],
            "source": [
                "# 占位单元格，留待后续添加代码或练习\n",
                "# 可用于测试其他 Python 代码或记录额外笔记"
            ]
        }
    ],
    "metadata": {
        "kernelspec": {
            "display_name": "Python 3 (ipykernel)",
            "language": "python",
            "name": "python3"
        },
        "language_info": {
            "codemirror_mode": {
                "name": "ipython",
                "version": 3
            },
            "file_extension": ".py",
            "mimetype": "text/x-python",
            "name": "python",
            "nbconvert_exporter": "python",
            "pygments_lexer": "ipython3",
            "version": "3.12.7"
        }
    },
    "nbformat": 4,
    "nbformat_minor": 5
}