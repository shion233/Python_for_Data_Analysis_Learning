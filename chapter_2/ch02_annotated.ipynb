{
 "cells": [
  {
   "cell_type": "markdown",
   "metadata": {},
   "source": [
    "# 利用Python进行数据分析（第二版）——第二章：Python 基础 \n",
    "\n",
    "本章内容为学习 Python 基础知识的笔记，涵盖 NumPy、列表操作、类型转换、字符串处理、自省、循环、文件操作等内容。本笔记通过代码示例和中文注释，帮助理解 Python 在数据分析中的应用。以下为代码和说明，保留书中页码标记（如 p30），以便复习和参考。\n"
   ]
  },
  {
   "cell_type": "code",
   "execution_count": 11,
   "metadata": {},
   "outputs": [],
   "source": [
    "# 导入 NumPy 库，用于数值计算\n",
    "import numpy as np\n",
    "# 设置随机种子，确保随机数可重复\n",
    "np.random.seed(12345)\n",
    "# 设置 NumPy 数组输出格式：精度为 4 位小数，禁用科学计数法\n",
    "np.set_printoptions(precision=4, suppress=True)"
   ]
  },
  {
   "cell_type": "markdown",
   "metadata": {},
   "source": [
    "## 随机数生成与列表推导式\n",
    "\n",
    "以下代码展示如何使用 NumPy 生成随机数，并通过列表推导式创建数据列表。这是数据分析中常见的操作，用于生成模拟数据。"
   ]
  },
  {
   "cell_type": "code",
   "execution_count": 2,
   "metadata": {},
   "outputs": [],
   "source": [
    "# 再次导入 NumPy（重复导入，仅为示例）\n",
    "import numpy as np\n",
    "# 使用列表推导式生成 7 个服从标准正态分布的随机数\n",
    "data = [np.random.standard_normal() for i in range(7)]\n",
    "# 输出列表内容\n",
    "data"
   ]
  },
  {
   "cell_type": "markdown",
   "metadata": {},
   "source": [
    "## 列表引用与复制\n",
    "\n",
    "以下代码演示 Python 中列表的引用和复制机制。理解引用与复制的区别对避免数据意外修改至关重要。"
   ]
  },
  {
   "cell_type": "code",
   "execution_count": 3,
   "metadata": {},
   "outputs": [],
   "source": [
    "# 创建一个包含 1, 2, 3 的列表\n",
    "a = [1, 2, 3]"
   ]
  },
  {
   "cell_type": "code",
   "execution_count": 4,
   "metadata": {},
   "outputs": [],
   "source": [
    "# 将 a 赋值给 b，b 引用同一对象（浅拷贝）\n",
    "b = a\n",
    "# 输出 b，内容与 a 相同\n",
    "b"
   ]
  },
  {
   "cell_type": "code",
   "execution_count": 5,
   "metadata": {},
   "outputs": [],
   "source": [
    "# 向 a 添加元素 4\n",
    "a.append(4)\n",
    "# 输出 b，因为 a 和 b 引用同一对象，b 也会变化\n",
    "b"
   ]
  },
  {
   "cell_type": "markdown",
   "metadata": {},
   "source": [
    "## 函数与列表操作\n",
    "\n",
    "以下代码定义了一个函数，用于向列表添加元素，展示 Python 中函数如何修改可变对象（如列表）。"
   ]
  },
  {
   "cell_type": "code",
   "execution_count": 6,
   "metadata": {},
   "outputs": [],
   "source": [
    "# 定义函数，向指定列表添加一个元素\n",
    "def append_element(some_list, element):\n",
    "    some_list.append(element)"
   ]
  },
  {
   "cell_type": "code",
   "execution_count": 7,
   "metadata": {},
   "outputs": [],
   "source": [
    "# 创建列表 [1, 2, 3]\n",
    "data = [1, 2, 3]\n",
    "# 调用函数，向 data 添加元素 4\n",
    "append_element(data, 4)\n",
    "# 输出 data，列表被修改为 [1, 2, 3, 4]\n",
    "data"
   ]
  },
  {
   "cell_type": "markdown",
   "metadata": {},
   "source": [
    "## 动态类型与类型检查\n",
    "\n",
    "Python 是动态类型语言，变量的类型可以在运行时改变。以下代码展示类型转换和类型检查的方法。"
   ]
  },
  {
   "cell_type": "code",
   "execution_count": 8,
   "metadata": {},
   "outputs": [],
   "source": [
    "# 定义变量 a 为整数 5\n",
    "a = 5\n",
    "# 输出 a 的类型：int\n",
    "type(a)\n",
    "# 将 a 重新赋值为字符串 \"foo\"\n",
    "a = \"foo\"\n",
    "# 输出 a 的新类型：str\n",
    "type(a)"
   ]
  },
  {
   "cell_type": "code",
   "execution_count": 9,
   "metadata": {},
   "outputs": [],
   "source": [
    "# 尝试将字符串 \"5\" 与整数 5 相加，会抛出 TypeError\n",
    "\"5\" + 5"
   ]
  },
  {
   "cell_type": "code",
   "execution_count": 10,
   "metadata": {},
   "outputs": [],
   "source": [
    "# 定义浮点数 a 和整数 b\n",
    "a = 4.5\n",
    "b = 2\n",
    "# 使用 f-string 格式化输出变量类型\n",
    "print(f\"a is {type(a)}, b is {type(b)}\")\n",
    "# 执行浮点数除法，输出 2.25\n",
    "a / b"
   ]
  },
  {
   "cell_type": "code",
   "execution_count": 11,
   "metadata": {},
   "outputs": [],
   "source": [
    "# 检查变量 a 是否为整数类型\n",
    "a = 5\n",
    "isinstance(a, int)  # 返回 True"
   ]
  },
  {
   "cell_type": "code",
   "execution_count": 12,
   "metadata": {},
   "outputs": [],
   "source": [
    "# 定义整数 a 和浮点数 b\n",
    "a = 5; b = 4.5\n",
    "# 检查 a 是否为 int 或 float 类型，返回 True\n",
    "isinstance(a, (int, float))\n",
    "# 检查 b 是否为 int 或 float 类型，返回 True\n",
    "isinstance(b, (int, float))"
   ]
  },
  {
   "cell_type": "markdown",
   "metadata": {},
   "source": [
    "## 字符串与动态属性\n",
    "\n",
    "以下代码展示如何动态获取对象的属性或方法（如字符串的 `split` 方法）。"
   ]
  },
  {
   "cell_type": "code",
   "execution_count": 13,
   "metadata": {},
   "outputs": [],
   "source": [
    "# 定义字符串变量\n",
    "a = \"foo\""
   ]
  },
  {
   "cell_type": "code",
   "execution_count": 14,
   "metadata": {},
   "outputs": [],
   "source": [
    "# 使用 getattr 动态获取字符串的 split 方法\n",
    "getattr(a, \"split\")  # 返回 split 方法对象"
   ]
  },
  {
   "cell_type": "markdown",
   "metadata": {},
   "source": [
    "## 可迭代对象检查\n",
    "\n",
    "以下代码定义了一个函数，用于检查对象是否可迭代（如字符串、列表等）。"
   ]
  },
  {
   "cell_type": "code",
   "execution_count": 15,
   "metadata": {},
   "outputs": [],
   "source": [
    "# 定义函数，检查对象是否可迭代\n",
    "def isiterable(obj):\n",
    "    try:\n",
    "        iter(obj)  # 尝试将对象转换为迭代器\n",
    "        return True  # 成功则返回 True\n",
    "    except TypeError:  # 如果不可迭代，捕获 TypeError\n",
    "        return False  # 返回 False"
   ]
  },
  {
   "cell_type": "code",
   "execution_count": 16,
   "metadata": {},
   "outputs": [],
   "source": [
    "# 测试字符串是否可迭代，返回 True\n",
    "isiterable(\"a string\")\n",
    "# 测试列表是否可迭代，返回 True\n",
    "isiterable([1, 2, 3])\n",
    "# 测试整数是否可迭代，返回 False\n",
    "isiterable(5)"
   ]
  },
  {
   "cell_type": "markdown",
   "metadata": {},
   "source": [
    "## 基本运算与比较\n",
    "\n",
    "以下代码展示 Python 的基本算术运算和比较操作。"
   ]
  },
  {
   "cell_type": "code",
   "execution_count": 17,
   "metadata": {},
   "outputs": [],
   "source": [
    "# 基本算术运算\n",
    "5 - 7  # 返回 -2\n",
    "12 + 21.5  # 返回 33.5\n",
    "5 <= 2  # 返回 False"
   ]
  },
  {
   "cell_type": "markdown",
   "metadata": {},
   "source": [
    "## 对象引用与深拷贝\n",
    "\n",
    "以下代码进一步探讨对象引用与深拷贝的区别，强调 `list()` 创建新对象。"
   ]
  },
  {
   "cell_type": "code",
   "execution_count": 18,
   "metadata": {},
   "outputs": [],
   "source": [
    "# 创建列表 a\n",
    "a = [1, 2, 3]\n",
    "# b 引用 a，指向同一对象\n",
    "b = a\n",
    "# 使用 list() 创建 a 的副本，c 是新对象\n",
    "c = list(a)\n",
    "# 检查 a 和 b 是否为同一对象，返回 True\n",
    "a is b\n",
    "# 检查 a 和 c 是否不同对象，返回 True\n",
    "a is not c"
   ]
  },
  {
   "cell_type": "code",
   "execution_count": 19,
   "metadata": {},
   "outputs": [],
   "source": [
    "# 检查 a 和 c 的内容是否相等，返回 True\n",
    "a == c"
   ]
  },
  {
   "cell_type": "markdown",
   "metadata": {},
   "source": [
    "## None 值检查\n",
    "\n",
    "`None` 是 Python 中的空值，常用于初始化或表示缺失值。"
   ]
  },
  {
   "cell_type": "code",
   "execution_count": 20,
   "metadata": {},
   "outputs": [],
   "source": [
    "# 将 a 赋值为 None\n",
    "a = None\n",
    "# 检查 a 是否为 None，返回 True\n",
    "a is None"
   ]
  },
  {
   "cell_type": "markdown",
   "metadata": {},
   "source": [
    "## 列表与元组的区别\n",
    "\n",
    "列表是可变的，元组是不可变的。以下代码展示两者的操作差异。"
   ]
  },
  {
   "cell_type": "code",
   "execution_count": 21,
   "metadata": {},
   "outputs": [],
   "source": [
    "# 创建列表，包含字符串、整数和嵌套列表\n",
    "a_list = [\"foo\", 2, [4, 5]]\n",
    "# 修改列表的第 2 个元素为元组 (3, 4)\n",
    "a_list[2] = (3, 4)\n",
    "# 输出修改后的列表\n",
    "a_list"
   ]
  },
  {
   "cell_type": "code",
   "execution_count": 22,
   "metadata": {},
   "outputs": [],
   "source": [
    "# 创建元组，包含整数和嵌套元组\n",
    "a_tuple = (3, 5, (4, 5))\n",
    "# 尝试修改元组元素，会抛出 TypeError（元组不可变）\n",
    "a_tuple[1] = \"four\""
   ]
  },
  {
   "cell_type": "markdown",
   "metadata": {},
   "source": [
    "## 数值运算\n",
    "\n",
    "以下代码展示 Python 中的大整数运算和浮点数表示。"
   ]
  },
  {
   "cell_type": "code",
   "execution_count": 23,
   "metadata": {},
   "outputs": [],
   "source": [
    "# 定义大整数\n",
    "ival = 17239871\n",
    "# 计算 ival 的 6 次方\n",
    "ival ** 6"
   ]
  },
  {
   "cell_type": "code",
   "execution_count": 24,
   "metadata": {},
   "outputs": [],
   "source": [
    "# 定义浮点数\n",
    "fval = 7.243\n",
    "# 使用科学计数法定义小数\n",
    "fval2 = 6.78e-5"
   ]
  },
  {
   "cell_type": "markdown",
   "metadata": {},
   "source": [
    "## 除法与整除\n",
    "\n",
    "Python 中 `/` 表示浮点除法，`//` 表示整除（向下取整）。"
   ]
  },
  {
   "cell_type": "code",
   "execution_count": 25,
   "metadata": {},
   "outputs": [],
   "source": [
    "# 浮点除法，返回 1.5\n",
    "3 / 2"
   ]
  },
  {
   "cell_type": "code",
   "execution_count": 26,
   "metadata": {},
   "outputs": [],
   "source": [
    "# 整除，返回 1\n",
    "3 // 2"
   ]
  },
  {
   "cell_type": "markdown",
   "metadata": {},
   "source": [
    "## 字符串操作\n",
    "\n",
    "以下代码展示多行字符串、字符串计数和不可变性。"
   ]
  },
  {
   "cell_type": "code",
   "execution_count": 27,
   "metadata": {},
   "outputs": [],
   "source": [
    "# 定义多行字符串，使用三引号\n",
    "c = \"\"\"\n",
    "This is a longer string that\n",
    "spans multiple lines\n",
    "\"\"\"\n",
    "# 统计换行符数量，返回 3\n",
    "c.count(\"\\n\")"
   ]
  },
  {
   "cell_type": "code",
   "execution_count": 28,
   "metadata": {},
   "outputs": [],
   "source": [
    "# 定义字符串\n",
    "a = \"this is a string\"\n",
    "# 尝试修改字符串的第 10 个字符，会抛出 TypeError（字符串不可变）\n",
    "a[10] = \"f\""
   ]
  },
  {
   "cell_type": "code",
   "execution_count": 29,
   "metadata": {},
   "outputs": [],
   "source": [
    "# 使用 replace 方法替换子字符串，生成新字符串\n",
    "b = a.replace(\"string\", \"longer string\")\n",
    "# 输出新字符串 b\n",
    "b\n",
    "# 原字符串 a 不变\n",
    "a"
   ]
  },
  {
   "cell_type": "markdown",
   "metadata": {},
   "source": [
    "## 字符串转换与切片\n",
    "\n",
    "以下代码展示将数值转换为字符串，以及字符串的切片和列表转换。"
   ]
  },
  {
   "cell_type": "code",
   "execution_count": 30,
   "metadata": {},
   "outputs": [],
   "source": [
    "# 将浮点数转换为字符串\n",
    "a = 5.6\n",
    "s = str(a)\n",
    "# 输出字符串 \"5.6\"\n",
    "print(s)"
   ]
  },
  {
   "cell_type": "code",
   "execution_count": 31,
   "metadata": {},
   "outputs": [],
   "source": [
    "# 定义字符串\n",
    "s = \"python\"\n",
    "# 将字符串转换为字符列表，返回 ['p', 'y', 't', 'h', 'o', 'n']\n",
    "list(s)\n",
    "# 切片，获取前 3 个字符，返回 \"pyt\"\n",
    "s[:3]"
   ]
  },
  {
   "cell_type": "code",
   "execution_count": 32,
   "metadata": {},
   "outputs": [],
   "source": [
    "# 定义字符串，包含转义字符\n",
    "s = \"12\\\\34\"\n",
    "# 输出字符串，显示为 \"12\\34\"\n",
    "print(s)"
   ]
  },
  {
   "cell_type": "markdown",
   "metadata": {},
   "source": [
    "## 原始字符串（p30）\n",
    "\n",
    "原始字符串使用 `r` 前缀，禁用转义字符的特殊处理，适合处理路径或正则表达式。\n",
    "\n",
    "| 字符串类型 | 输入内容 | 实际存储值 | 说明 |\n",
    "|------------|----------|------------|------|\n",
    "| 普通字符串 | `\"a\\nb\"` | a + 换行符 + b | `\\n` 被转义为换行符 |\n",
    "| 原始字符串 | `r\"a\\nb\"` | a + \\ + n + b | `\\n` 被当作两个字符 |"
   ]
  },
  {
   "cell_type": "code",
   "execution_count": 33,
   "metadata": {},
   "outputs": [],
   "source": [
    "# 定义原始字符串，转义字符不生效\n",
    "s = r\"this\\has\\no\\special\\characters\"\n",
    "# 输出字符串，保留原始格式\n",
    "s"
   ]
  },
  {
   "cell_type": "markdown",
   "metadata": {},
   "source": [
    "## 字符串拼接与格式化\n",
    "\n",
    "以下代码展示字符串拼接和格式化方法，包括 `+` 运算符和 `format` 方法。"
   ]
  },
  {
   "cell_type": "code",
   "execution_count": 34,
   "metadata": {},
   "outputs": [],
   "source": [
    "# 定义两个字符串\n",
    "a = \"this is the first half \"\n",
    "b = \"and this is the second half\"\n",
    "# 使用 + 拼接字符串\n",
    "a + b"
   ]
  },
  {
   "cell_type": "code",
   "execution_count": 35,
   "metadata": {},
   "outputs": [],
   "source": [
    "# 定义格式化模板，{0:.2f} 表示两位小数，{1:s} 表示字符串，{2:d} 表示整数\n",
    "template = \"{0:.2f} {1:s} are worth US${2:d}\"\n",
    "# 格式化输出：88.46 Argentine Pesos are worth US$1\n",
    "template.format(88.46, \"Argentine Pesos\", 1)"
   ]
  },
  {
   "cell_type": "code",
   "execution_count": 36,
   "metadata": {},
   "outputs": [],
   "source": [
    "# 定义变量\n",
    "amount = 10\n",
    "rate = 88.46\n",
    "currency = \"Pesos\"\n",
    "# 使用 f-string 格式化字符串\n",
    "result = f\"{amount} {currency} is worth US${amount / rate}\"\n",
    "# 格式化输出，保留两位小数\n",
    "f\"{amount} {currency} is worth US${amount / rate:.2f}\""
   ]
  },
  {
   "cell_type": "markdown",
   "metadata": {},
   "source": [
    "## Unicode 与编码\n",
    "\n",
    "以下代码展示 Unicode 字符串的编码和解码，常见于处理多语言数据。"
   ]
  },
  {
   "cell_type": "code",
   "execution_count": 37,
   "metadata": {},
   "outputs": [],
   "source": [
    "# 定义 Unicode 字符串，包含非 ASCII 字符\n",
    "val = \"español\"\n",
    "# 编码为 UTF-8 字节对象\n",
    "val_utf8 = val.encode(\"utf-8\")\n",
    "# 输出字节对象及其类型\n",
    "val_utf8\n",
    "type(val_utf8)\n",
    "# 解码回字符串\n",
    "val_utf8.decode(\"utf-8\")"
   ]
  },
  {
   "cell_type": "code",
   "execution_count": 38,
   "metadata": {},
   "outputs": [],
   "source": [
    "# 使用不同编码格式编码字符串\n",
    "val.encode(\"latin1\")\n",
    "val.encode(\"utf-16\")\n",
    "val.encode(\"utf-16le\")"
   ]
  },
  {
   "cell_type": "markdown",
   "metadata": {},
   "source": [
    "## 布尔值与类型转换\n",
    "\n",
    "以下代码展示布尔运算、布尔值转换以及其他类型的布尔值表示。"
   ]
  },
  {
   "cell_type": "code",
   "execution_count": 39,
   "metadata": {},
   "outputs": [],
   "source": [
    "# 布尔运算\n",
    "True and True  # 返回 True\n",
    "False or True  # 返回 True"
   ]
  },
  {
   "cell_type": "code",
   "execution_count": 40,
   "metadata": {},
   "outputs": [],
   "source": [
    "# 将布尔值转换为整数\n",
    "int(False)  # 返回 0\n",
    "int(True)   # 返回 1"
   ]
  },
  {
   "cell_type": "code",
   "execution_count": 41,
   "metadata": {},
   "outputs": [],
   "source": [
    "# 定义布尔变量\n",
    "a = True\n",
    "b = False\n",
    "# 布尔取反\n",
    "not a  # 返回 False\n",
    "not b  # 返回 True"
   ]
  },
  {
   "cell_type": "code",
   "execution_count": 42,
   "metadata": {},
   "outputs": [],
   "source": [
    "# 定义字符串表示的浮点数\n",
    "s = \"3.14159\"\n",
    "# 转换为浮点数\n",
    "fval = float(s)\n",
    "# 输出类型：float\n",
    "type(fval)\n",
    "# 转换为整数，截断小数部分，返回 3\n",
    "int(fval)\n",
    "# 转换为布尔值，非零为 chạy True\n",
    "bool(fval)\n",
    "# 零转换为布尔值，返回 False\n",
    "bool(0)"
   ]
  },
  {
   "cell_type": "markdown",
   "metadata": {},
   "source": [
    "## None 值检查（续）\n",
    "\n",
    "继续展示 None 的检查方法，强调与普通值的区别。"
   ]
  },
  {
   "cell_type": "code",
   "execution_count": 43,
   "metadata": {},
   "outputs": [],
   "source": [
    "# 检查 None 值\n",
    "a = None\n",
    "a is None  # 返回 True\n",
    "# 检查非 None 值\n",
    "b = 5\n",
    "b is not None  # 返回 True"
   ]
  },
  {
   "cell_type": "markdown",
   "metadata": {},
   "source": [
    "## 日期与时间处理\n",
    "\n",
    "以下代码使用 `datetime` 模块处理日期和时间，常见于时间序列数据分析。"
   ]
  },
  {
   "cell_type": "code",
   "execution_count": 44,
   "metadata": {},
   "outputs": [],
   "source": [
    "# 导入 datetime 模块\n",
    "from datetime import datetime, date, time\n",
    "# 创建 datetime 对象，表示 2011-10-29 20:30:21\n",
    "dt = datetime(2011, 10, 29, 20, 30, 21)\n",
    "# 获取日期中的天数，返回 29\n",
    "dt.day\n",
    "# 获取分钟数，返回 30\n",
    "dt.minute"
   ]
  },
  {
   "cell_type": "code",
   "execution_count": 45,
   "metadata": {},
   "outputs": [],
   "source": [
    "# 提取日期部分，返回 date 对象\n",
    "dt.date()\n",
    "# 提取时间部分，返回 time 对象\n",
    "dt.time()"
   ]
  },
  {
   "cell_type": "code",
   "execution_count": 46,
   "metadata": {},
   "outputs": [],
   "source": [
    "# 格式化输出日期时间，格式为 YYYY-MM-DD HH:MM\n",
    "dt.strftime(\"%Y-%m-%d %H:%M\")"
   ]
  },
  {
   "cell_type": "code",
   "execution_count": 47,
   "metadata": {},
   "outputs": [],
   "source": [
    "# 解析字符串为 datetime 对象，格式为 YYYYMMDD\n",
    "datetime.strptime(\"20091031\", \"%Y%m%d\")"
   ]
  },
  {
   "cell_type": "code",
   "execution_count": 48,
   "metadata": {},
   "outputs": [],
   "source": [
    "# 替换时间部分，设置分钟和秒为 0\n",
    "dt_hour = dt.replace(minute=0, second=0)\n",
    "# 输出修改后的 datetime 对象\n",
    "dt_hour"
   ]
  },
  {
   "cell_type": "code",
   "execution_count": 49,
   "metadata": {},
   "outputs": [],
   "source": [
    "# 计算两个 datetime 对象的差值\n",
    "dt2 = datetime(2011, 11, 15, 22, 30)\n",
    "delta = dt2 - dt\n",
    "# 输出时间差（timedelta 对象）\n",
    "delta\n",
    "# 输出时间差的类型\n",
    "type(delta)"
   ]
  },
  {
   "cell_type": "code",
   "execution_count": 50,
   "metadata": {},
   "outputs": [],
   "source": [
    "# 使用时间差进行日期运算\n",
    "dt + delta  # 返回 dt2"
   ]
  },
  {
   "cell_type": "markdown",
   "metadata": {},
   "source": [
    "## 条件语句\n",
    "\n",
    "以下代码展示 Python 的条件语句，结合布尔逻辑判断。"
   ]
  },
  {
   "cell_type": "code",
   "execution_count": 51,
   "metadata": {},
   "outputs": [],
   "source": [
    "# 定义变量\n",
    "a = 5; b = 7\n",
    "c = 8; d = 4\n",
    "# 检查条件：a < b 或 c > d\n",
    "if a < b or c > d:\n",
    "    print(\"Made it\")  # 条件成立，输出 \"Made it\""
   ]
  },
  {
   "cell_type": "code",
   "execution_count": 52,
   "metadata": {},
   "outputs": [],
   "source": [
    "# 链式比较，等价于 4 > 3 and 3 > 2 and 2 > 1\n",
    "4 > 3 > 2 > 1  # 返回 True"
   ]
  },
  {
   "cell_type": "markdown",
   "metadata": {},
   "source": [
    "## 循环与嵌套循环\n",
    "\n",
    "以下代码展示嵌套循环和 `break` 语句的使用。"
   ]
  },
  {
   "cell_type": "code",
   "execution_count": 53,
   "metadata": {},
   "outputs": [],
   "source": [
    "# 嵌套循环，输出 i, j 组合\n",
    "for i in range(4):\n",
    "    for j in range(4):\n",
    "        if j > i:  # 当 j > i 时跳出内层循环\n",
    "            break\n",
    "        print((i, j))  # 输出 (i, j) 对"
   ]
  },
  {
   "cell_type": "markdown",
   "metadata": {},
   "source": [
    "## 范围对象与列表转换\n",
    "\n",
    "`range()` 生成整数序列，常用于循环或列表生成。"
   ]
  },
  {
   "cell_type": "code",
   "execution_count": 54,
   "metadata": {},
   "outputs": [],
   "source": [
    "# 创建范围对象\n",
    "range(10)\n",
    "# 转换为列表，返回 [0, 1, 2, ..., 9]\n",
    "list(range(10))"
   ]
  },
  {
   "cell_type": "code",
   "execution_count": 55,
   "metadata": {},
   "outputs": [],
   "source": [
    "# 生成步长为 2 的序列，返回 [0, 2, 4, ..., 18]\n",
    "list(range(0, 20, 2))\n",
    "# 生成倒序序列，返回 [5, 4, 3, 2, 1]\n",
    "list(range(5, 0, -1))"
   ]
  },
  {
   "cell_type": "markdown",
   "metadata": {},
   "source": [
    "## 循环遍历列表\n",
    "\n",
    "以下代码展示如何通过索引遍历列表。"
   ]
  },
  {
   "cell_type": "code",
   "execution_count": 56,
   "metadata": {},
   "outputs": [],
   "source": [
    "# 定义列表\n",
    "seq = [1, 2, 3, 4]\n",
    "# 通过索引遍历列表\n",
    "for i in range(len(seq)):\n",
    "    print(f\"element {i}: {seq[i]}\")  # 输出每个元素及其索引"
   ]
  },
  {
   "cell_type": "markdown",
   "metadata": {},
   "source": [
    "## 求和与条件判断\n",
    "\n",
    "以下代码计算 0 到 99999 中能被 3 或 5 整除的数的和（Project Euler 问题 1）。"
   ]
  },
  {
   "cell_type": "code",
   "execution_count": 57,
   "metadata": {},
   "outputs": [],
   "source": [
    "# 初始化总和\n",
    "total = 0\n",
    "# 遍历 0 到 99999\n",
    "for i in range(100_000):\n",
    "    # 检查是否能被 3 或 5 整除\n",
    "    if i % 3 == 0 or i % 5 == 0:\n",
    "        total += i  # 累加符合条件的数\n",
    "# 输出结果\n",
    "print(total)"
   ]
  },
  {
   "cell_type": "markdown",
   "metadata": {},
   "source": [
    "## Tab 自动补全（p30）\n",
    "\n",
    "在 Jupyter 或 IPython 中，按 Tab 键可以自动补全变量、函数或模块名，提高编码效率。以下代码展示补全的常见场景。\n",
    "\n",
    "> **提示**：在输入部分名称后按 Tab，Jupyter 会列出匹配的选项。例如，输入 `an` 后按 Tab，可补全为 `an_apple` 或 `an_example`。"
   ]
  },
  {
   "cell_type": "code",
   "execution_count": 58,
   "metadata": {},
   "outputs": [],
   "source": [
    "# 定义变量以测试 Tab 补全\n",
    "an_apple = 27  # 一个苹果的数量\n",
    "an_example = 42  # 一个示例值\n",
    "# 在 Jupyter 中输入 `an` 后按 Tab，可看到补全选项：an_apple, an_example"
   ]
  },
  {
   "cell_type": "code",
   "execution_count": 59,
   "metadata": {},
   "outputs": [],
   "source": [
    "# 查看补全后的变量值\n",
    "an_apple  # 输出 27\n",
    "an_example  # 输出 42"
   ]
  },
  {
   "cell_type": "markdown",
   "metadata": {},
   "source": [
    "## 自省（Introspection）（p30）\n",
    "\n",
    "Python 支持自省功能，使用 `?` 或 `??` 查看对象信息（如类型、文档字符串或源代码）。以下代码展示如何在 IPython/Jupyter 中使用自省。\n",
    "\n",
    "> **提示**：\n",
    "> - `obj?` 显示对象的概要信息（如类型、文档）。\n",
    "> - `obj??` 显示更详细信息（如源代码，需对象定义可访问）。"
   ]
  },
  {
   "cell_type": "code",
   "execution_count": 60,
   "metadata": {},
   "outputs": [],
   "source": [
    "# 定义一个简单的函数，用于测试自省\n",
    "def add_numbers(a, b):\n",
    "    \"\"\"Add two numbers together\n",
    "\n",
    "    Returns\n",
    "    -------\n",
    "    the_sum : type of arguments\n",
    "    \"\"\"  # 文档字符串，说明函数功能\n",
    "    return a + b  # 返回两个参数的和"
   ]
  },
  {
   "cell_type": "code",
   "execution_count": 61,
   "metadata": {},
   "outputs": [],
   "source": [
    "# 在 IPython/Jupyter 中运行以下命令（以注释形式展示）：\n",
    "# add_numbers?  # 显示函数的文档字符串和基本信息\n",
    "# add_numbers??  # 显示函数的源代码"
   ]
  },
  {
   "cell_type": "markdown",
   "metadata": {},
   "source": [
    "## 魔术命令（Magic Commands）（p31）\n",
    "\n",
    "IPython/Jupyter 提供魔术命令（如 `%paste`、 `%cpaste`），用于增强交互式开发。以下代码展示常见魔术命令的用法。\n",
    "\n",
    "| 魔术命令 | 功能 |\n",
    "|----------|------|\n",
    "| `%paste` | 粘贴剪贴板中的代码并执行，忽略多余缩进 |\n",
    "| `%cpaste` | 进入粘贴模式，允许手动粘贴多行代码，输入 `--` 结束 |"
   ]
  },
  {
   "cell_type": "code",
   "execution_count": 62,
   "metadata": {},
   "outputs": [],
   "source": [
    "# 示例：在 IPython 中运行以下命令（以注释形式展示）：\n",
    "# %paste  # 粘贴剪贴板代码并立即执行\n",
    "# %cpaste  # 进入粘贴模式，粘贴后输入 -- 结束"
   ]
  },
  {
   "cell_type": "markdown",
   "metadata": {},
   "source": [
    "## 列表推导式（List Comprehension）（p32）\n",
    "\n",
    "列表推导式是 Python 中一种简洁的方式，用于从可迭代对象生成列表。以下代码展示其基本用法和嵌套推导式。\n",
    "\n",
    "> **语法**：`[expr for val in collection if condition]`\n",
    "> - `expr`：对每个元素应用的表达式\n",
    "> - `val`：迭代变量\n",
    "> - `collection`：可迭代对象\n",
    "> - `condition`：可选的过滤条件"
   ]
  },
  {
   "cell_type": "code",
   "execution_count": 63,
   "metadata": {},
   "outputs": [],
   "source": [
    "# 定义字符串列表\n",
    "strings = [\"a\", \"as\", \"bat\", \"car\", \"dove\", \"python\"]\n",
    "# 使用列表推导式，将长度 >= 2 的字符串转换为大写\n",
    "[x.upper() for x in strings if len(x) >= 2]  # 返回 ['AS', 'BAT', 'CAR', 'DOVE', 'PYTHON']"
   ]
  },
  {
   "cell_type": "markdown",
   "metadata": {},
   "source": [
    "## 集合推导式（Set Comprehension）（p32）\n",
    "\n",
    "集合推导式类似于列表推导式，但生成集合（无重复元素）。以下代码展示如何提取字符串长度并去重。"
   ]
  },
  {
   "cell_type": "code",
   "execution_count": 64,
   "metadata": {},
   "outputs": [],
   "source": [
    "# 使用集合推导式，提取字符串的长度并去重\n",
    "unique_lengths = {len(x) for x in strings}\n",
    "# 输出集合，例如 {1, 2, 3, 4, 6}\n",
    "unique_lengths"
   ]
  },
  {
   "cell_type": "markdown",
   "metadata": {},
   "source": [
    "## 字典推导式（Dictionary Comprehension）（p32）\n",
    "\n",
    "字典推导式用于从可迭代对象生成字典。以下代码展示两种创建字典的方式。"
   ]
  },
  {
   "cell_type": "code",
   "execution_count": 65,
   "metadata": {},
   "outputs": [],
   "source": [
    "# 使用字典推导式，创建字符串到其长度的映射\n",
    "setcomp = {x: len(x) for x in strings}\n",
    "# 输出字典，例如 {'a': 1, 'as': 2, 'bat': 3, 'car': 3, 'dove': 4, 'python': 6}\n",
    "setcomp"
   ]
  },
  {
   "cell_type": "code",
   "execution_count": 66,
   "metadata": {},
   "outputs": [],
   "source": [
    "# 使用 map 和 dict 构造函数创建相同字典\n",
    "mapping = dict(zip(strings, map(len, strings)))\n",
    "# 输出相同字典\n",
    "mapping"
   ]
  },
  {
   "cell_type": "markdown",
   "metadata": {},
   "source": [
    "## 嵌套列表推导式（p32）\n",
    "\n",
    "嵌套列表推导式用于处理嵌套数据结构，如多层列表。以下代码展示如何展平嵌套的名字列表。"
   ]
  },
  {
   "cell_type": "code",
   "execution_count": 67,
   "metadata": {},
   "outputs": [],
   "source": [
    "# 定义嵌套的名字列表\n",
    "all_data = [[\"John\", \"Emily\", \"Michael\", \"Mary\", \"Steven\"],\n",
    "            [\"Maria\", \"Juan\", \"Javier\", \"Natalia\", \"Pilar\"]]\n",
    "# 使用嵌套列表推导式，提取包含两个以上 'a' 的名字\n",
    "names_of_interest = []\n",
    "for names in all_data:\n",
    "    enough_as = [name for name in names if name.count(\"a\") >= 2]\n",
    "    names_of_interest.extend(enough_as)\n",
    "# 输出结果，例如 ['Maria', 'Natalia']\n",
    "names_of_interest"
   ]
  },
  {
   "cell_type": "code",
   "execution_count": 68,
   "metadata": {},
   "outputs": [],
   "source": [
    "# 使用单行嵌套列表推导式实现相同功能\n",
    "result | [name for names in all_data for name in names if name.count(\"a\") >= 2]\n",
    "# 输出相同结果\n",
    "result"
   ]
  },
  {
   "cell_type": "markdown",
   "metadata": {},
   "source": [
    "## 展平嵌套元组（p33）\n",
    "\n",
    "以下代码展示如何使用列表推导式展平嵌套元组结构，常用于数据清理。"
   ]
  },
  {
   "cell_type": "code",
   "execution_count": 69,
   "metadata": {},
   "outputs": [],
   "source": [
    "# 定义嵌套元组\n",
    "some_tuples = [(1, 2, 3), (4, 5, 6), (7, 8, 9)]\n",
    "# 使用列表推导式展平元组\n",
    "flattened = [x for tup in some_tuples for x in tup]\n",
    "# 输出展平后的列表 [1, 2, 3, 4, 5, 6, 7, 8, 9]\n",
    "flattened"
   ]
  },
  {
   "cell_type": "markdown",
   "metadata": {},
   "source": [
    "## 嵌套推导式与多层循环（p33）\n",
    "\n",
    "嵌套推导式等价于多层循环，但更简洁。以下代码对比两种方式。"
   ]
  },
  {
   "cell_type": "code",
   "execution_count": 70,
   "metadata": {},
   "outputs": [],
   "source": [
    "# 使用多层循环展平嵌套元组\n",
    "flattened = []\n",
    "for tup in some_tuples:\n",
    "    for x in tup:\n",
    "        flattened.append(x)\n",
    "# 输出相同结果\n",
    "flattened"
   ]
  },
  {
   "cell_type": "code",
   "execution_count": 71,
   "metadata": {},
   "outputs": [],
   "source": [
    "# 使用嵌套列表推导式生成嵌套列表\n",
    "[[x for x in tup] for tup in some_tuples]\n",
    "# 输出 [[1, 2, 3], [4, 5, 6], [7, 8, 9]]，保持原结构"
   ]
  },
  {
   "cell_type": "markdown",
   "metadata": {},
   "source": [
    "## 函数与返回值（p33）\n",
    "\n",
    "Python 函数可以返回多个值（以元组形式）。以下代码展示多返回值和元组解包。"
   ]
  },
  {
   "cell_type": "code",
   "execution_count": 72,
   "metadata": {},
   "outputs": [],
   "source": [
    "# 定义返回多个值的函数\n",
    "def f():\n",
    "    a = 5\n",
    "    b = 6\n",
    "    c = 7\n",
    "    return a, b, c  # 返回元组 (5, 6, 7)\n",
    "\n",
    "# 调用函数并解包返回值\n",
    "a, b, c = f()\n",
    "# 输出 a, b, c 分别为 5, 6, 7"
   ]
  },
  {
   "cell_type": "code",
   "execution_count": 73,
   "metadata": {},
   "outputs": [],
   "source": [
    "# 直接接收元组\n",
    "return_value = f()\n",
    "# 输出元组 (5, 6, 7)\n",
    "return_value"
   ]
  },
  {
   "cell_type": "markdown",
   "metadata": {},
   "source": [
    "## 字典作为返回值（p34）\n",
    "\n",
    "函数可以返回字典，适合结构化数据。以下代码展示返回字典的函数。"
   ]
  },
  {
   "cell_type": "code",
   "execution_count": 74,
   "metadata": {},
   "outputs": [],
   "source": [
    "# 定义返回字典的函数\n",
    "def f():\n",
    "    a = 5\n",
    "    b = 6\n",
    "    c = 7\n",
    "    return {\"a\": a, \"b\": b, \"c\": c}  # 返回字典\n",
    "\n",
    "# 调用函数\n",
    "result = f()\n",
    "# 输出字典 {\"a\": 5, \"b\": 6, \"c\": 7}\n",
    "result"
   ]
  },
  {
   "cell_type": "markdown",
   "metadata": {},
   "source": [
    "## 匿名函数（Lambda 函数）（p34）\n",
    "\n",
    "Lambda 函数是单行匿名函数，适合简单操作。以下代码展示 Lambda 函数的用法。"
   ]
  },
  {
   "cell_type": "code",
   "execution_count": 75,
   "metadata": {},
   "outputs": [],
   "source": [
    "# 定义 Lambda 函数，计算两数之和\n",
    "f = lambda x, y: x + y\n",
    "# 调用 Lambda 函数，输出 8\n",
    "f(5, 3)"
   ]
  },
  {
   "cell_type": "code",
   "execution_count": 76,
   "metadata": {},
   "outputs": [],
   "source": [
    "# 使用 Lambda 函数对字符串列表按字母顺序排序\n",
    "strings = [\"foo\", \"card\", \"bar\", \"aaaa\", \"abab\"]\n",
    "strings.sort(key=lambda x: len(set(x)))  # 按唯一字符数量排序\n",
    "# 输出 ['aaaa', 'foo', 'abab', 'bar', 'card']\n",
    "strings"
   ]
  },
  {
   "cell_type": "markdown",
   "metadata": {},
   "source": [
    "## 生成器（Generators）（p34）\n",
    "\n",
    "生成器是惰性计算的迭代器，使用 `yield` 逐个生成值，节省内存。以下代码展示生成器的创建和使用。"
   ]
  },
  {
   "cell_type": "code",
   "execution_count": 77,
   "metadata": {},
   "outputs": [],
   "source": [
    "# 定义生成器函数，生成平方数\n",
    "def squares(n=10):\n",
    "    print(f\"Generating squares from 1 to {n}\")\n",
    "    for i in range(1, n + 1):\n",
    "        yield i ** 2  # 逐个生成平方值\n",
    "\n",
    "# 创建生成器对象\n",
    "gen = squares()\n",
    "# 输出生成器对象\n",
    "gen"
   ]
  },
  {
   "cell_type": "code",
   "execution_count": 78,
   "metadata": {},
   "outputs": [],
   "source": [
    "# 遍历生成器，输出平方数 [1, 4, 9, ..., 100]\n",
    "for x in gen:\n",
    "    print(x, end=\" \")"
   ]
  },
  {
   "cell_type": "markdown",
   "metadata": {},
   "source": [
    "## 生成器表达式（p35）\n",
    "\n",
    "生成器表达式类似于列表推导式，但返回生成器对象，适合处理大数据。以下代码对比两者的内存使用。"
   ]
  },
  {
   "cell_type": "code",
   "execution_count": 79,
   "metadata": {},
   "outputs": [],
   "source": [
    "# 创建生成器表达式，生成 0 到 9 的平方\n",
    "gen = (x ** 2 for x in range(10))\n",
    "# 输出生成器对象\n",
    "gen"
   ]
  },
  {
   "cell_type": "code",
   "execution_count": 80,
   "metadata": {},
   "outputs": [],
   "source": [
    "# 遍历生成器，输出 [0, 1, 4, 9, ..., 81]\n",
    "for x in gen:\n",
    "    print(x, end=\" \")"
   ]
  },
  {
   "cell_type": "code",
   "execution_count": 81,
   "metadata": {},
   "outputs": [],
   "source": [
    "# 使用生成器表达式求和，节省内存\n",
    "sum(x ** 2 for x in range(100))  # 生成器表达式求和\n",
    "# 使用列表推导式求和，占用更多内存\n",
    "sum([x ** 2 for x in range(100)])  # 列表推导式求和"
   ]
  },
  {
   "cell_type": "markdown",
   "metadata": {},
   "source": [
    "## itertools 模块（p35）\n",
    "\n",
    "`itertools` 模块提供高效的迭代工具，如组合、排列等。以下代码展示 `groupby` 的用法。"
   ]
  },
  {
   "cell_type": "code",
   "execution_count": 82,
   "metadata": {},
   "outputs": [],
   "source": [
    "# 导入 itertools 模块\n",
    "import itertools\n",
    "# 定义按名字首字母分组的函数\n",
    "def first_letter(x):\n",
    "    return x[0]\n",
    "\n",
    "# 定义名字列表\n",
    "names = [\"Alan\", \"Adam\", \"Wes\", \"Will\", \"Albert\", \"Steven\"]\n",
    "# 使用 groupby 按首字母分组\n",
    "for letter, names_group in itertools.groupby(sorted(names), key=first_letter):\n",
    "    print(letter, list(names_group))  # 输出分组结果，例如 A ['Adam', 'Alan', 'Albert']"
   ]
  },
  {
   "cell_type": "markdown",
   "metadata": {},
   "source": [
    "## 错误与异常处理（p36）\n",
    "\n",
    "Python 使用 `try-except` 处理异常，确保程序鲁棒性。以下代码展示异常处理的常见场景。"
   ]
  },
  {
   "cell_type": "code",
   "execution_count": 83,
   "metadata": {},
   "outputs": [],
   "source": [
    "# 定义浮点数转换函数，处理无效输入\n",
    "def attempt_float(x):\n",
    "    try:\n",
    "        return float(x)  # 尝试转换为浮点数\n",
    "    except ValueError:  # 捕获值错误\n",
    "        return x  # 无法转换时返回原值\n",
    "\n",
    "# 测试有效输入\n",
    "attempt_float(\"1.2345\")  # 返回 1.2345\n",
    "# 测试无效输入\n",
    "attempt_float(\"something\")  # 返回 \"something\""
   ]
  },
  {
   "cell_type": "code",
   "execution_count": 84,
   "metadata": {},
   "outputs": [],
   "source": [
    "# 定义更严格的转换函数，处理多种异常\n",
    "def attempt_float(x):\n",
    "    try:\n",
    "        return float(x)\n",
    "    except (ValueError, TypeError):  # 捕获值错误或类型错误\n",
    "        return x\n",
    "\n",
    "# 测试元组输入\n",
    "attempt_float((1, 2))  # 返回 (1, 2)"
   ]
  },
  {
   "cell_type": "markdown",
   "metadata": {},
   "source": [
    "## 文件操作（p37）\n",
    "\n",
    "Python 使用 `open` 函数读写文件，`with` 语句确保文件正确关闭。以下代码展示文件操作的基本用法。"
   ]
  },
  {
   "cell_type": "code",
   "execution_count": 85,
   "metadata": {},
   "outputs": [],
   "source": [
    "# 示例文件路径（需替换为实际路径）\n",
    "path = \"examples/segismundo.txt\"\n",
    "# 使用 with 语句读取文件，指定编码为 UTF-8\n",
    "with open(path, encoding=\"utf-8\") as f:\n",
    "    lines = [x.rstrip() for x in f]  # 读取每行并去除末尾换行符\n",
    "# 输出前几行（示例输出，实际内容取决于文件）\n",
    "lines[:5]"
   ]
  },
  {
   "cell_type": "code",
   "execution_count": 86,
   "metadata": {},
   "outputs": [],
   "source": [
    "# 读取文件并统计字符数（不含换行符）\n",
    "f = open(path, encoding=\"utf-8\")\n",
    "chars = sum(len(line) for line in f)  # 计算总字符数\n",
    "f.close()  # 手动关闭文件\n",
    "# 输出字符数\n",
    "chars"
   ]
  },
  {
   "cell_type": "code",
   "execution_count": 87,
   "metadata": {},
   "outputs": [],
   "source": [
    "# 使用 with 语句更安全地统计字符数\n",
    "with open(path, encoding=\"utf-8\") as f:\n",
    "    chars = sum(len(line) for line in f)\n",
    "# 输出字符数\n",
    "chars"
   ]
  },
  {
   "cell_type": "markdown",
   "metadata": {},
   "source": [
    "## 文件写入（p37）\n",
    "\n",
    "以下代码展示如何写入文件，包括覆盖和追加模式。"
   ]
  },
  {
   "cell_type": "code",
   "execution_count": 88,
   "metadata": {},
   "outputs": [],
   "source": [
    "# 创建临时文件并写入内容\n",
    "with open(\"tmp.txt\", \"w\", encoding=\"utf-8\") as handle:\n",
    "    handle.write(\"a\\nb\\nc\\n\")  # 写入三行内容\n",
    "\n",
    "# 读取并验证写入内容\n",
    "with open(\"tmp.txt\", encoding=\"utf-8\") as handle:\n",
    "    lines = handle.readlines()\n",
    "# 输出 ['a\\n', 'b\\n', 'c\\n']\n",
    "lines"
   ]
  },
  {
   "cell_type": "markdown",
   "metadata": {},
   "source": [
    "## 字节与 Unicode（p38）\n",
    "\n",
    "文件操作中，需注意字节与 Unicode 的转换。以下代码展示二进制模式和编码处理。"
   ]
  },
  {
   "cell_type": "code",
   "execution_count": 89,
   "metadata": {},
   "outputs": [],
   "source": [
    "# 以二进制模式读取文件\n",
    "with open(path, \"rb\") as f:\n",
    "    data = f.read(10)  # 读取前 10 个字节\n",
    "# 输出字节对象\n",
    "data"
   ]
  },
  {
   "cell_type": "code",
   "execution_count": 90,
   "metadata": {},
   "outputs": [],
   "source": [
    "# 解码字节为字符串\n",
    "data.decode(\"utf-8\")  # 转换为 UTF-8 字符串\n",
    "# 尝试用错误编码解码，会抛出 UnicodeDecodeError\n",
    "data.decode(\"latin1\")"
   ]
  },
  {
   "cell_type": "code",
   "execution_count": 91,
   "metadata": {},
   "outputs": [],
   "source": [
    "# 以二进制模式写入文件\n",
    "sink_path = \"sink.txt\"\n",
    "with open(path, \"rb\") as source:\n",
    "    with open(sink_path, \"wb\") as sink:\n",
    "        sink.write(source.read(10))  # 复制前 10 个字节"
   ]
  },
  {
   "cell_type": "markdown",
   "metadata": {},
   "source": [
    "## 文件定位与截断（p38）\n",
    "\n",
    "`seek` 和 `tell` 用于控制文件指针，`truncate` 用于截断文件内容。"
   ]
  },
  {
   "cell_type": "code",
   "execution_count": 92,
   "metadata": {},
   "outputs": [],
   "source": [
    "# 检查文件指针位置\n",
    "f = open(path, encoding=\"utf-8\")\n",
    "f.tell()  # 返回当前指针位置（0）\n",
    "f.seek(3)  # 移动指针到第 3 个字节\n",
    "f.read(1)  # 读取 1 个字符\n",
    "f.tell()  # 返回新的指针位置（4）\n",
    "f.close()"
   ]
  },
  {
   "cell_type": "markdown",
   "metadata": {
    "jp-MarkdownHeadingCollapsed": true
   },
   "source": [
    "## 结论\n",
    "\n",
    "本章通过代码示例和注释，介绍了 Python 基础知识，包括数据类型、控制流、函数、生成器、异常处理和文件操作。这些内容为后续数据分析奠定了基础。建议结合实际数据集练习上述代码，以加深理解。"
   ]
  }
 ],
 "metadata": {
  "kernelspec": {
   "display_name": "Python 3 (ipykernel)",
   "language": "python",
   "name": "python3"
  },
  "language_info": {
   "codemirror_mode": {
    "name": "ipython",
    "version": 3
   },
   "file_extension": ".py",
   "mimetype": "text/x-python",
   "name": "python",
   "nbconvert_exporter": "python",
   "pygments_lexer": "ipython3",
   "version": "3.12.7"
  }
 },
 "nbformat": 4,
 "nbformat_minor": 4
}
