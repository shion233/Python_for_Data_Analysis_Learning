{
    "cells": [
        {
            "cell_type": "markdown",
            "metadata": {},
            "source": [
                "# NumPy基础：数组和向量计算 (p114)\n",
                "\n",
                "## 学习目标\n",
                "本章介绍 NumPy 的核心功能，包括多维数组（ndarray）的创建、操作、索引、切片以及基本运算。通过示例代码，掌握 NumPy 在数据分析中的高效向量计算能力。\n",
                "\n",
                "## 核心内容\n",
                "- **ndarray**：多维数组对象的创建与操作\n",
                "- **数组运算**：向量化的快速计算\n",
                "- **索引与切片**：灵活访问和修改数组数据\n",
                "- **随机数生成与统计方法**：数据模拟与分析"
            ]
        },
        {
            "cell_type": "code",
            "execution_count": 1,
            "metadata": {},
            "outputs": [],
            "source": [
                "import numpy as np\n",
                "np.random.seed(12345)  # 设置随机种子，确保结果可重复\n",
                "import matplotlib.pyplot as plt\n",
                "plt.rc(\"figure\", figsize=(10, 6))  # 设置 Matplotlib 默认图形大小为 10x6 英寸\n",
                "\n",
                "# 配置 NumPy 数组打印格式\n",
                "np.set_printoptions(precision=4, suppress=True)  # 浮点数保留4位小数，禁用科学计数法"
            ]
        },
        {
            "cell_type": "markdown",
            "metadata": {},
            "source": [
                "## 性能对比：NumPy 数组 vs Python 列表 (p114)\n",
                "\n",
                "以下代码比较 NumPy 数组和 Python 列表在相同操作（元素乘以 2）时的性能差异，展示 NumPy 的向量运算优势。\n",
                "\n",
                "**预期输出**：\n",
                "- NumPy 数组操作耗时约为 1.7 毫秒。\n",
                "- Python 列表操作耗时约为 59.8 毫秒，NumPy 速度远超列表。"
            ]
        },
        {
            "cell_type": "code",
            "execution_count": 1,
            "metadata": {},
            "outputs": [],
            "source": [
                "# 创建一个包含 100 万个元素的 NumPy 数组和 Python 列表\n",
                "my_arr = np.arange(1_000_000)  # NumPy 数组：从 0 到 999999\n",
                "my_list = list(range(1_000_000))  # Python 列表：同等规模"
            ]
        },
        {
            "cell_type": "code",
            "execution_count": 4,
            "metadata": {},
            "outputs": [
                {
                    "name": "stdout",
                    "output_type": "stream",
                    "text": [
                        "1.7 ms ± 80.4 μs per loop (mean ± std. dev. of 7 runs, 1,000 loops each)\n",
                        "59.8 ms ± 1.29 ms per loop (mean ± std. dev. of 7 runs, 10 loops each)\n"
                    ]
                }
            ],
            "source": [
                "# 测试 NumPy 数组元素乘以 2 的性能\n",
                "%timeit my_arr2 = my_arr * 2  # 向量化的乘法运算\n",
                "\n",
                "# 测试 Python 列表元素乘以 2 的性能\n",
                "%timeit my_list2 = [x * 2 for x in my_list]  # 列表推导式，逐元素运算"
            ]
        },
        {
            "cell_type": "markdown",
            "metadata": {},
            "source": [
                "## NumPy 的 ndarray：多维数组对象 (p116)\n",
                "\n",
                "`ndarray` 是 NumPy 的核心数据结构，支持多维数组操作。以下代码展示如何创建数组并进行基本运算。\n",
                "\n",
                "**关键点**：\n",
                "- 数组支持向量运算，无需显式循环。\n",
                "- 数组具有 `shape`（形状）和 `dtype`（数据类型）属性。\n",
                "\n",
                "**预期输出**：\n",
                "- `data`：2x3 浮点数数组。\n",
                "- `data * 10`：每个元素乘以 10。\n",
                "- `data + data`：元素逐一相加。\n",
                "- `data.shape`：(2, 3)。\n",
                "- `data.dtype`：float64。"
            ]
        },
        {
            "cell_type": "code",
            "execution_count": 4,
            "metadata": {},
            "outputs": [],
            "source": [
                "# 创建一个 2x3 的二维数组\n",
                "data = np.array([[1.5, -0.1, 3], [0, -3, 6.5]])  # 传入嵌套列表\n",
                "\n",
                "# 向量运算：乘以 10 和自身相加\n",
                "data * 10  # 每个元素乘以 10\n",
                "data + data  # 对应元素相加\n",
                "\n",
                "# 查看数组属性\n",
                "data.shape  # 形状：(2, 3)\n",
                "data.dtype  # 数据类型：float64"
            ]
        },
        {
            "cell_type": "markdown",
            "metadata": {},
            "source": [
                "## 创建 ndarray (p118)\n",
                "\n",
                "NumPy 提供多种方式创建数组，包括 `array`、`zeros`、`empty` 和 `arange` 等函数。以下代码展示常见创建方法。\n",
                "\n",
                "**关键点**：\n",
                "- `np.array`：将 Python 列表转换为数组，自动推断数据类型。\n",
                "- `np.zeros`：创建全零数组。\n",
                "- `np.empty`：创建未初始化数组（内容随机）。\n",
                "- `np.arange`：生成连续整数序列。\n",
                "\n",
                "**预期输出**：\n",
                "- `arr1`：一维数组 `[6.0, 7.5, 8.0, 0.0, 1.0]`。\n",
                "- `arr2`：二维数组 `[[1, 2, 3, 4], [5, 6, 7, 8]]`。\n",
                "- `arr2.ndim`：2（二维）。\n",
                "- `arr2.shape`：(2, 4)。\n",
                "- `np.zeros(10)`：一维全零数组。\n",
                "- `np.empty((2, 3, 2))`：3D 数组，内容随机。\n",
                "- `np.arange(15)`：`[0, 1, ..., 14]`。"
            ]
        },
        {
            "cell_type": "code",
            "execution_count": 7,
            "metadata": {},
            "outputs": [],
            "source": [
                "# 从列表创建一维数组\n",
                "data1 = [6, 7.5, 8, 0, 1]\n",
                "arr1 = np.array(data1)  # 转换为 NumPy 数组\n",
                "\n",
                "# 从嵌套列表创建二维数组\n",
                "data2 = [[1, 2, 3, 4], [5, 6, 7, 8]]\n",
                "arr2 = np.array(data2)  # 转换为 2x4 数组\n",
                "\n",
                "# 查看数组维度和形状\n",
                "arr2.ndim  # 维度：2\n",
                "arr2.shape  # 形状：(2, 4)\n",
                "\n",
                "# 查看数据类型\n",
                "arr1.dtype  # float64（因包含 7.5）\n",
                "arr2.dtype  # int32（全为整数）\n",
                "\n",
                "# 创建特殊数组\n",
                "np.zeros(10)  # 一维全零数组\n",
                "np.zeros((3, 6))  # 3x6 全零数组\n",
                "np.empty((2, 3, 2))  # 2x3x2 未初始化数组\n",
                "np.arange(15)  # 连续整数数组：[0, 1, ..., 14]"
            ]
        },
        {
            "cell_type": "markdown",
            "metadata": {},
            "source": [
                "## ndarray 的数据类型 (p120)\n",
                "\n",
                "NumPy 数组的 `dtype` 定义了元素的数据类型，可以通过 `astype` 方法转换类型。以下代码展示类型指定和转换。\n",
                "\n",
                "**关键点**：\n",
                "- `dtype` 可指定为 `float64`、`int32` 等。\n",
                "- `astype` 转换类型时，可能导致数据截断（如浮点转整数）。\n",
                "- 字符串数组可转换为数值类型。\n",
                "\n",
                "**预期输出**：\n",
                "- `arr1.dtype`：float64。\n",
                "- `arr2.dtype`：int32。\n",
                "- `float_arr.dtype`：float64。\n",
                "- `arr.astype(np.int32)`：浮点数截断为整数。\n",
                "- `numeric_strings.astype(float)`：`[1.25, -9.6, 42.0]`。\n",
                "- `int_array.astype(calibers.dtype)`：转换为 float64。\n",
                "- `zeros_uint32`：8 个无符号 32 位整数，全为 0。"
            ]
        },
        {
            "cell_type": "code",
            "execution_count": 13,
            "metadata": {},
            "outputs": [],
            "source": [
                "# 指定数据类型创建数组\n",
                "arr1 = np.array([1, 2, 3], dtype=np.float64)  # 浮点型\n",
                "arr2 = np.array([1, 2, 3], dtype=np.int32)  # 整型\n",
                "\n",
                "# 类型转换\n",
                "arr = np.array([1, 2, 3, 4, 5])\n",
                "float_arr = arr.astype(np.float64)  # 转换为浮点型\n",
                "\n",
                "# 浮点数转整数（截断小数部分）\n",
                "arr = np.array([3.7, -1.2, -2.6, 0.5, 12.9, 10.1])\n",
                "arr.astype(np.int32)  # 输出：[3, -1, -2, 0, 12, 10]\n",
                "\n",
                "# 字符串转浮点数\n",
                "numeric_strings = np.array([\"1.25\", \"-9.6\", \"42\"], dtype=np.string_)\n",
                "numeric_strings.astype(float)  # 输出：[1.25, -9.6, 42.0]\n",
                "\n",
                "# 使用另一个数组的 dtype 转换\n",
                "int_array = np.arange(10)\n",
                "calibers = np.array([.22, .270, .357, .380, .44, .50], dtype=np.float64)\n",
                "int_array.astype(calibers.dtype)  # 转换为 float64\n",
                "\n",
                "# 创建无符号整型数组\n",
                "zeros_uint32 = np.zeros(8, dtype=\"u4\")  # 8 个 uint32 类型的 0"
            ]
        },
        {
            "cell_type": "markdown",
            "metadata": {},
            "source": [
                "## NumPy 数组的运算 (p123)\n",
                "\n",
                "NumPy 数组支持向量化的算术运算和比较运算，无需显式循环。以下代码展示基本运算和比较。\n",
                "\n",
                "**关键点**：\n",
                "- 算术运算（如 `*`、`-`、`/`）逐元素执行。\n",
                "- 比较运算（如 `>`）返回布尔数组。\n",
                "\n",
                "**预期输出**：\n",
                "- `arr * arr`：元素逐一相乘。\n",
                "- `arr - arr`：全零数组。\n",
                "- `1 / arr`：每个元素的倒数。\n",
                "- `arr ** 2`：每个元素平方。\n",
                "- `arr2 > arr`：布尔数组，表示对应元素比较结果。"
            ]
        },
        {
            "cell_type": "code",
            "execution_count": 19,
            "metadata": {},
            "outputs": [],
            "source": [
                "# 创建 2x3 数组并进行算术运算\n",
                "arr = np.array([[1., 2., 3.], [4., 5., 6.]])\n",
                "arr * arr  # 元素逐一相乘\n",
                "arr - arr  # 元素逐一相减\n",
                "\n",
                "# 标量运算\n",
                "1 / arr  # 每个元素的倒数\n",
                "arr ** 2  # 每个元素平方\n",
                "\n",
                "# 比较运算\n",
                "arr2 = np.array([[0., 4., 1.], [7., 2., 12.]])\n",
                "arr2 > arr  # 返回布尔数组，比较对应元素"
            ]
        },
        {
            "cell_type": "markdown",
            "metadata": {},
            "source": [
                "## 基本的索引和切片 (p125)\n",
                "\n",
                "NumPy 数组支持灵活的索引和切片操作，切片是原数组的视图，修改会影响原数组。以下代码展示一维和多维数组的索引与切片。\n",
                "\n",
                "**关键点**：\n",
                "- 索引：`arr[i]` 访问单个元素。\n",
                "- 切片：`arr[i:j]` 访问子数组，修改切片会改变原数组。\n",
                "- 多维索引：`arr2d[i, j]` 或 `arr2d[i][j]` 访问元素。\n",
                "\n",
                "**预期输出**：\n",
                "- `arr[5]`：12。\n",
                "- `arr[5:8]`：`[12, 12345, 12]`（因修改）。\n",
                "- `arr2d[2]`：`[7, 8, 9]`。\n",
                "- `arr3d[0]`：2x3 数组。\n",
                "- `arr3d[1, 0]`：`[7, 8, 9]`。"
            ]
        },
        {
            "cell_type": "code",
            "execution_count": 22,
            "metadata": {},
            "outputs": [],
            "source": [
                "# 一维数组的索引和切片\n",
                "arr = np.arange(10)  # 创建数组：[0, 1, ..., 9]\n",
                "arr[5]  # 访问第 5 个元素：5\n",
                "arr[5:8]  # 切片：[5, 6, 7]\n",
                "arr[5:8] = 12  # 修改切片，所有值为 12\n",
                "\n",
                "# 切片是视图，修改会影响原数组\n",
                "arr_slice = arr[5:8]  # 切片：[12, 12, 12]\n",
                "arr_slice[1] = 12345  # 修改切片，arr 变为 [0, 1, 2, 3, 4, 12, 12345, 12, 8, 9]\n",
                "arr_slice[:] = 64  # 切片全设为 64，arr 相应改变\n",
                "\n",
                "# 二维数组索引\n",
                "arr2d = np.array([[1, 2, 3], [4, 5, 6], [7, 8, 9]])\n",
                "arr2d[2]  # 访问第 2 行：[7, 8, 9]\n",
                "arr2d[0, 2]  # 访问第 0 行第 2 列：3\n",
                "\n",
                "# 三维数组索引\n",
                "arr3d = np.array([[[1, 2, 3], [4, 5, 6]], [[7, 8, 9], [10, 11, 12]]])\n",
                "arr3d[0]  # 第一个 2x3 子数组\n",
                "old_values = arr3d[0].copy()  # 复制以避免修改\n",
                "arr3d[0] = 42  # 将第一个子数组全设为 42\n",
                "arr3d[0] = old_values  # 恢复原始值\n",
                "arr3d[1, 0]  # 访问 [7, 8, 9]"
            ]
        },
        {
            "cell_type": "markdown",
            "metadata": {},
            "source": [
                "## 切片索引 (p129)\n",
                "\n",
                "切片索引用于访问多维数组的子区域，语法为 `arr[i:j, k:l]`。以下代码展示二维数组的切片操作。\n",
                "\n",
                "**关键点**：\n",
                "- 切片可以指定多个维度，如 `arr2d[:2, 1:]`。\n",
                "- 切片返回视图，修改会影响原数组。\n",
                "\n",
                "**预期输出**：\n",
                "- `arr[1:6]`：`[1, 64, 64, 64, 4]`（因之前修改）。\n",
                "- `arr2d[:2]`：前两行。\n",
                "- `arr2d[:2, 1:]`：前两行的第 1 列及之后。\n",
                "- `lower_dim_slice.shape`：(2,)（一维）。\n",
                "- `arr2d[:2, 2]`：前两行的第 2 列。\n",
                "- `arr2d[:, :1]`：所有行的第 0 列。\n",
                "- `arr2d`（修改后）：部分元素变为 0。"
            ]
        },
        {
            "cell_type": "code",
            "execution_count": 33,
            "metadata": {},
            "outputs": [],
            "source": [
                "# 一维数组切片\n",
                "arr[1:6]  # 访问索引 1 到 5 的元素\n",
                "\n",
                "# 二维数组切片\n",
                "arr2d[:2]  # 前两行：[[1, 2, 3], [4, 5, 6]]\n",
                "arr2d[:2, 1:]  # 前两行的第 1 列及之后：[[2, 3], [5, 6]]\n",
                "\n",
                "# 降维切片\n",
                "lower_dim_slice = arr2d[1, :2]  # 第 1 行的前两列：[4, 5]\n",
                "lower_dim_slice.shape  # 形状：(2,)\n",
                "\n",
                "# 选择单列或单行\n",
                "arr2d[:2, 2]  # 前两行的第 2 列：[3, 6]\n",
                "arr2d[:, :1]  # 所有行的第 0 列：[[1], [4], [7]]\n",
                "\n",
                "# 修改切片\n",
                "arr2d[:2, 1:] = 0  # 前两行的第 1 列及之后设为 0"
            ]
        },
        {
            "cell_type": "markdown",
            "metadata": {},
            "source": [
                "## 布尔型索引 (p133)\n",
                "\n",
                "布尔型索引使用布尔数组选择数据，适合条件过滤。以下代码展示如何基于条件筛选数组元素。\n",
                "\n",
                "**关键点**：\n",
                "- 布尔数组长度需与索引轴匹配，否则报错。\n",
                "- 布尔索引返回副本，修改不影响原数组。\n",
                "- 使用 `&`（与）、`|`（或）组合条件。\n",
                "\n",
                "**预期输出**：\n",
                "- `names == \"Bob\"`：`[True, False, False, True, False, False, False]`。\n",
                "- `data[names == \"Bob\"]`：`[[4, 7], [0, 0]]`。\n",
                "- `data[~(names == \"Bob\")]`：非 Bob 的行。\n",
                "- `data[mask]`：Bob 或 Will 的行。\n",
                "- `data`（修改后）：负值变为 0，部分行变为 7。"
            ]
        },
        {
            "cell_type": "code",
            "execution_count": 41,
            "metadata": {},
            "outputs": [],
            "source": [
                "# 创建名字数组和数据数组\n",
                "names = np.array([\"Bob\", \"Joe\", \"Will\", \"Bob\", \"Will\", \"Joe\", \"Joe\"])\n",
                "data = np.array([[4, 7], [0, 2], [-5, 6], [0, 0], [1, 2],\n",
                "                 [-12, -4], [3, 4]])\n",
                "\n",
                "# 布尔索引：选择 names 为 Bob 的行\n",
                "names == \"Bob\"  # 布尔数组\n",
                "data[names == \"Bob\"]  # 输出：[[4, 7], [0, 0]]\n",
                "\n",
                "# 结合切片\n",
                "data[names == \"Bob\", 1:]  # Bob 行的第 1 列及之后\n",
                "data[names == \"Bob\", 1]  # Bob 行的第 1 列\n",
                "\n",
                "# 取反条件\n",
                "data[~(names == \"Bob\")]  # 非 Bob 的行\n",
                "\n",
                "# 组合条件\n",
                "mask = (names == \"Bob\") | (names == \"Will\")  # Bob 或 Will\n",
                "data[mask]  # 输出对应行\n",
                "\n",
                "# 修改数组\n",
                "data[data < 0] = 0  # 负值设为 0\n",
                "data[names != \"Joe\"] = 7  # 非 Joe 的行设为 7"
            ]
        },
        {
            "cell_type": "markdown",
            "metadata": {},
            "source": [
                "## 花式索引 (p137)\n",
                "\n",
                "花式索引（Fancy Indexing）通过整数数组或布尔数组以任意顺序或重复方式选择数据。花式索引总是返回数据的副本，而非视图。\n",
                "\n",
                "**关键点**：\n",
                "- 使用整数列表指定行或元素的索引，如 `arr[[4, 3, 0]]`。\n",
                "- 支持多维索引，如 `arr[[1, 5, 7, 2], [0, 3, 1, 2]]` 选择特定元素。\n",
                "- 负索引表示从末尾计数。\n",
                "\n",
                "**预期输出**：\n",
                "- `arr[[4, 3, 0, 6]]`：选择第 4、3、0、6 行。\n",
                "- `arr[[-3, -5, -7]]`：选择倒数第 3、5、7 行。\n",
                "- `arr[[1, 5, 7, 2], [0, 3, 1, 2]]`：选择特定位置的元素，如 (1,0)、(5,3)、(7,1)、(2,2)。\n",
                "- `arr[[1, 5, 7, 2]][:, [0, 3, 1, 2]]`：选择行后重新排序列。\n",
                "- `arr`（修改后）：部分元素被设为 0。"
            ]
        },
        {
            "cell_type": "code",
            "execution_count": 50,
            "metadata": {},
            "outputs": [],
            "source": [
                "# 创建 8x4 数组，每行填充行索引值\n",
                "arr = np.zeros((8, 4))\n",
                "for i in range(8):\n",
                "    arr[i] = i  # 每行设为 [i, i, i, i]\n",
                "\n",
                "# 花式索引：选择指定行\n",
                "arr[[4, 3, 0, 6]]  # 输出第 4、3、0、6 行\n",
                "\n",
                "# 使用负索引选择行\n",
                "arr[[-3, -5, -7]]  # 输出倒数第 3、5、7 行\n",
                "\n",
                "# 创建 8x4 数组并重塑\n",
                "arr = np.arange(32).reshape((8, 4))  # [[0, 1, 2, 3], [4, 5, 6, 7], ...]\n",
                "\n",
                "# 花式索引：选择特定元素\n",
                "arr[[1, 5, 7, 2], [0, 3, 1, 2]]  # 输出 [4, 23, 29, 10]，即 (1,0)、(5,3)、(7,1)、(2,2)\n",
                "\n",
                "# 选择行并重新排序列\n",
                "arr[[1, 5, 7, 2]][:, [0, 3, 1, 2]]  # 选行后按 0、3、1、2 顺序排列列\n",
                "\n",
                "# 修改花式索引选中的元素\n",
                "arr[[1, 5, 7, 2], [0, 3, 1, 2]] = 0  # 将选中的元素设为 0"
            ]
        },
        {
            "cell_type": "markdown",
            "metadata": {},
            "source": [
                "## 数组转置和轴对换 (p139)\n",
                "\n",
                "数组转置和轴对换用于调整数组的维度顺序，常用在矩阵运算中。`T` 属性和 `swapaxes` 方法是主要工具。\n",
                "\n",
                "**关键点**：\n",
                "- `arr.T`：转置二维数组（行列互换）。\n",
                "- `np.dot` 或 `@`：矩阵乘法。\n",
                "- `swapaxes(axis1, axis2)`：交换指定轴。\n",
                "\n",
                "**预期输出**：\n",
                "- `arr.T`：3x5 数组转置为 5x3。\n",
                "- `np.dot(arr.T, arr)`：矩阵乘法，结果为 3x3 矩阵。\n",
                "- `arr.swapaxes(0, 1)`：等效于转置。"
            ]
        },
        {
            "cell_type": "code",
            "execution_count": 56,
            "metadata": {},
            "outputs": [],
            "source": [
                "# 创建 3x5 数组并转置\n",
                "arr = np.arange(15).reshape((3, 5))  # [[0, 1, 2, 3, 4], ...]\n",
                "arr.T  # 转置为 5x3 数组\n",
                "\n",
                "# 矩阵乘法\n",
                "arr = np.array([[0, 1, 0], [1, 2, -2], [6, 3, 2], [-1, 0, -1], [1, 0, 1]])\n",
                "np.dot(arr.T, arr)  # 转置后与原数组相乘，输出 3x3 矩阵\n",
                "\n",
                "# 使用 @ 运算符进行矩阵乘法\n",
                "arr.T @ arr  # 等效于 np.dot(arr.T, arr)\n",
                "\n",
                "# 轴对换\n",
                "arr.swapaxes(0, 1)  # 交换第 0 轴和第 1 轴，等效于转置"
            ]
        },
        {
            "cell_type": "markdown",
            "metadata": {},
            "source": [
                "## 通用函数：快速的元素级数组函数 (p141)\n",
                "\n",
                "通用函数（ufunc）对数组元素逐一应用数学运算，高效且向量化。包括一元函数（如 `sqrt`）和二元函数（如 `maximum`）。\n",
                "\n",
                "**关键点**：\n",
                "- 一元函数：如 `np.sqrt`、`np.exp`，对每个元素操作。\n",
                "- 二元函数：如 `np.maximum`，比较两个数组的对应元素。\n",
                "- `np.modf`：分离浮点数的整数和小数部分。\n",
                "\n",
                "**预期输出**：\n",
                "- `np.sqrt(arr)`：每个元素的平方根。\n",
                "- `np.exp(arr)`：每个元素的指数。\n",
                "- `np.maximum(x, y)`：两个数组对应元素的最大值。\n",
                "- `np.modf(arr)`：返回小数部分和整数部分的两个数组。"
            ]
        },
        {
            "cell_type": "code",
            "execution_count": 64,
            "metadata": {},
            "outputs": [],
            "source": [
                "# 一元通用函数\n",
                "arr = np.arange(10)  # [0, 1, ..., 9]\n",
                "np.sqrt(arr)  # 每个元素的平方根\n",
                "np.exp(arr)  # 每个元素的 e 次幂\n",
                "\n",
                "# 二元通用函数\n",
                "rng = np.random.default_rng(seed=12345)  # 初始化随机数生成器\n",
                "x = rng.standard_normal(8)  # 8 个标准正态分布随机数\n",
                "y = rng.standard_normal(8)  # 另 8 个随机数\n",
                "np.maximum(x, y)  # 对应元素的最大值\n",
                "\n",
                "# 分离整数和小数部分\n",
                "arr = rng.standard_normal(7) * 5  # 7 个随机数，放大 5 倍\n",
                "remainder, whole_part = np.modf(arr)  # 分离小数和整数部分\n",
                "# remainder: 小数部分\n",
                "# whole_part: 整数部分\n",
                "\n",
                "# 使用输出数组\n",
                "out = np.zeros_like(arr)  # 创建与 arr 形状相同的全零数组\n",
                "np.add(arr, 1, out=out)  # arr + 1，结果存入 out"
            ]
        },
        {
            "cell_type": "markdown",
            "metadata": {},
            "source": [
                "## 利用数组进行数据处理 (p145)\n",
                "\n",
                "NumPy 的数组运算可替代循环，高效处理数据。以下代码展示使用 `meshgrid` 生成网格点并计算距离。\n",
                "\n",
                "**关键点**：\n",
                "- `np.meshgrid`：生成二维网格坐标。\n",
                "- 向量运算：计算每个网格点的值（如欧氏距离）。\n",
                "\n",
                "**预期输出**：\n",
                "- `ys`：1000x1000 的网格 Y 坐标。\n",
                "- `z`：每个网格点的欧氏距离 `sqrt(x^2 + y^2)`。"
            ]
        },
        {
            "cell_type": "code",
            "execution_count": 68,
            "metadata": {},
            "outputs": [],
            "source": [
                "# 生成网格点\n",
                "points = np.arange(-5, 5, 0.01)  # 从 -5 到 5，步长 0.01，共 1000 个点\n",
                "xs, ys = np.meshgrid(points, points)  # 生成 1000x1000 的 X、Y 坐标网格\n",
                "\n",
                "# 计算每个点的欧氏距离\n",
                "z = np.sqrt(xs ** 2 + ys ** 2)  # z = sqrt(x^2 + y^2)"
            ]
        },
        {
            "cell_type": "markdown",
            "metadata": {},
            "source": [
                "## 将条件逻辑表述为数组运算 (p147)\n",
                "\n",
                "`np.where` 是 NumPy 中实现条件逻辑的向量化工具，替代列表推导式或循环。\n",
                "\n",
                "**关键点**：\n",
                "- `np.where(cond, x, y)`：当 `cond` 为 True 时取 `x`，否则取 `y`。\n",
                "- 支持标量和数组操作。\n",
                "\n",
                "**预期输出**：\n",
                "- `result`（列表推导式）：`[1.1, 2.2, 1.3, 1.4, 2.5]`。\n",
                "- `np.where(cond, xarr, yarr)`：同上。\n",
                "- `np.where(arr > 0, 2, -2)`：正值设为 2，负值设为 -2。\n",
                "- `np.where(arr > 0, 2, arr)`：正值设为 2，其余不变。"
            ]
        },
        {
            "cell_type": "code",
            "execution_count": 73,
            "metadata": {},
            "outputs": [],
            "source": [
                "# 传统条件逻辑（列表推导式）\n",
                "xarr = np.array([1.1, 1.2, 1.3, 1.4, 1.5])\n",
                "yarr = np.array([2.1, 2.2, 2.3, 2.4, 2.5])\n",
                "cond = np.array([True, False, True, True, False])\n",
                "result = [(x if c else y) for x, y, c in zip(xarr, yarr, cond)]  # 条件选择\n",
                "\n",
                "# 使用 np.where 实现相同逻辑\n",
                "result = np.where(cond, xarr, yarr)  # 向量化条件选择\n",
                "\n",
                "# 条件替换\n",
                "arr = rng.standard_normal((4, 4))  # 4x4 随机数组\n",
                "np.where(arr > 0, 2, -2)  # 正值设为 2，负值设为 -2\n",
                "np.where(arr > 0, 2, arr)  # 正值设为 2，其余不变"
            ]
        },
        {
            "cell_type": "markdown",
            "metadata": {},
            "source": [
                "## 数学和统计方法 (p149)\n",
                "\n",
                "NumPy 提供丰富的统计方法，如均值、总和、累积和等，可沿指定轴操作。\n",
                "\n",
                "**关键点**：\n",
                "- `mean`、`sum` 等方法可作用于整个数组或指定轴。\n",
                "- `cumsum`、`cumprod` 计算累积和或积。\n",
                "\n",
                "**预期输出**：\n",
                "- `arr.mean()`：数组均值。\n",
                "- `arr.sum()`：数组总和。\n",
                "- `arr.mean(axis=1)`：每行均值。\n",
                "- `arr.cumsum()`：累积和 `[0, 1, 3, 6, 10, 15, 21, 28]`。\n",
                "- `arr.cumsum(axis=0)`：沿第 0 轴累积和。"
            ]
        },
        {
            "cell_type": "code",
            "execution_count": 78,
            "metadata": {},
            "outputs": [],
            "source": [
                "# 统计方法\n",
                "arr = rng.standard_normal((5, 4))  # 5x4 随机数组\n",
                "arr.mean()  # 整个数组的均值\n",
                "np.mean(arr)  # 等效调用\n",
                "arr.sum()  # 整个数组的总和\n",
                "\n",
                "# 沿轴操作\n",
                "arr.mean(axis=1)  # 每行均值\n",
                "arr.sum(axis=0)  # 每列总和\n",
                "\n",
                "# 累积运算\n",
                "arr = np.array([0, 1, 2, 3, 4, 5, 6, 7])\n",
                "arr.cumsum()  # 累积和：[0, 1, 3, 6, 10, 15, 21, 28]\n",
                "\n",
                "# 二维数组累积运算\n",
                "arr = np.array([[0, 1, 2], [3, 4, 5], [6, 7, 8]])\n",
                "arr.cumsum(axis=0)  # 沿第 0 轴累积和\n",
                "arr.cumsum(axis=1)  # 沿第 1 轴累积和"
            ]
        },
        {
            "cell_type": "markdown",
            "metadata": {},
            "source": [
                "## 用于布尔型数组的方法 (p152)\n",
                "\n",
                "布尔型数组支持 `any` 和 `all` 方法，用于检查条件是否部分或全部满足。\n",
                "\n",
                "**关键点**：\n",
                "- `any()`：检查是否存在 True。\n",
                "- `all()`：检查是否全为 True。\n",
                "- 可结合布尔运算统计满足条件的元素数。\n",
                "\n",
                "**预期输出**：\n",
                "- `(arr > 0).sum()`：正值个数。\n",
                "- `bools.any()`：True（存在 True）。\n",
                "- `bools.all()`：False（不全为 True）。"
            ]
        },
        {
            "cell_type": "code",
            "execution_count": 83,
            "metadata": {},
            "outputs": [],
            "source": [
                "# 统计正值和非正值个数\n",
                "arr = rng.standard_normal(100)  # 100 个随机数\n",
                "(arr > 0).sum()  # 正值个数\n",
                "(arr <= 0).sum()  # 非正值个数\n",
                "\n",
                "# 布尔数组方法\n",
                "bools = np.array([False, False, True, False])\n",
                "bools.any()  # 是否存在 True：True\n",
                "bools.all()  # 是否全为 True：False"
            ]
        },
        {
            "cell_type": "markdown",
            "metadata": {},
            "source": [
                "## 排序 (p152)\n",
                "\n",
                "NumPy 提供 `sort` 方法和 `np.sort` 函数用于数组排序，支持按轴排序。\n",
                "\n",
                "**关键点**：\n",
                "- `arr.sort()`：就地排序，修改原数组。\n",
                "- `np.sort(arr)`：返回排序后的副本，原数组不变。\n",
                "- 可指定轴，如 `axis=0` 按列排序。\n",
                "\n",
                "**预期输出**：\n",
                "- `arr.sort()`：数组升序排列。\n",
                "- `arr.sort(axis=0)`：每列升序。\n",
                "- `np.sort(arr2)`：`[-10, -3, 0, 1, 5, 7]`。"
            ]
        },
        {
            "cell_type": "code",
            "execution_count": 85,
            "metadata": {},
            "outputs": [],
            "source": [
                "# 一维数组排序\n",
                "arr = rng.standard_normal(6)  # 6 个随机数\n",
                "arr.sort()  # 就地升序排序\n",
                "\n",
                "# 二维数组排序\n",
                "arr = rng.standard_normal((5, 3))  # 5x3 随机数组\n",
                "arr.sort(axis=0)  # 按列排序\n",
                "arr.sort(axis=1)  # 按行排序\n",
                "\n",
                "# 使用 np.sort 返回副本\n",
                "arr2 = np.array([5, -10, 7, 1, 0, -3])\n",
                "sorted_arr2 = np.sort(arr2)  # 返回排序后的数组"
            ]
        },
        {
            "cell_type": "markdown",
            "metadata": {},
            "source": [
                "## 唯一化以及其它的集合逻辑 (p154)\n",
                "\n",
                "NumPy 提供集合操作函数，如 `np.unique` 和 `np.in1d`，用于去重和成员检查。\n",
                "\n",
                "**关键点**：\n",
                "- `np.unique`：返回排序后的唯一值。\n",
                "- `np.in1d`：检查元素是否在指定集合中。\n",
                "\n",
                "**预期输出**：\n",
                "- `np.unique(names)`：`['Bob', 'Joe', 'Will']`。\n",
                "- `np.unique(ints)`：`[1, 2, 3, 4]`。\n",
                "- `np.in1d(values, [2, 3, 6])`：`[True, False, False, True, True, False, True]`。"
            ]
        },
        {
            "cell_type": "code",
            "execution_count": 89,
            "metadata": {},
            "outputs": [],
            "source": [
                "# 去重\n",
                "names = np.array([\"Bob\", \"Will\", \"Joe\", \"Bob\", \"Will\", \"Joe\", \"Joe\"])\n",
                "np.unique(names)  # 输出：['Bob', 'Joe', 'Will']\n",
                "\n",
                "ints = np.array([3, 3, 3, 2, 2, 1, 1, 4, 4])\n",
                "np.unique(ints)  # 输出：[1, 2, 3, 4]\n",
                "\n",
                "# Python 内置方式（对比）\n",
                "sorted(set(names))  # 等效于 np.unique，但返回列表\n",
                "\n",
                "# 成员检查\n",
                "values = np.array([6, 0, 0, 3, 2, 5, 6])\n",
                "np.in1d(values, [2, 3, 6])  # 检查 values 中的元素是否在 [2, 3, 6] 中"
            ]
        },
        {
            "cell_type": "markdown",
            "metadata": {},
            "source": [
                "## 用于数组的文件输入输出 (p155)\n",
                "\n",
                "NumPy 支持将数组保存到文件（`.npy` 或 `.npz`）或从文件加载，方便数据持久化。\n",
                "\n",
                "**关键点**：\n",
                "- `np.save`：保存单个数组到 `.npy` 文件。\n",
                "- `np.savez`：保存多个数组到 `.npz` 文件。\n",
                "- `np.savez_compressed`：压缩保存，减小文件大小。\n",
                "\n",
                "**预期输出**：\n",
                "- `np.load('some_array.npy')`：`[0, 1, ..., 9]`。\n",
                "- `arch['b']`：加载的数组 `b`。"
            ]
        },
        {
            "cell_type": "code",
            "execution_count": 3,
            "metadata": {},
            "outputs": [],
            "source": [
                "# 保存单个数组\n",
                "arr = np.arange(10)\n",
                "np.save(\"some_array\", arr)  # 保存到 some_array.npy\n",
                "\n",
                "# 加载数组\n",
                "np.load(\"some_array.npy\")  # 输出：[0, 1, ..., 9]\n",
                "\n",
                "# 保存多个数组\n",
                "np.savez(\"array_archive.npz\", a=arr, b=arr)  # 保存到 array_archive.npz\n",
                "\n",
                "# 加载多个数组\n",
                "arch = np.load(\"array_archive.npz\")\n",
                "arch[\"b\"]  # 访问数组 b\n",
                "\n",
                "# 压缩保存\n",
                "np.savez_compressed(\"arrays_compressed.npz\", a=arr, b=arr)  # 压缩保存到 arrays_compressed.npz\n",
                "\n",
                "# 清理生成的文件\n",
                "!rm some_array.npy\n",
                "!rm array_archive.npz\n",
                "!rm arrays_compressed.npz"
            ]
        },
        {
            "cell_type": "markdown",
            "metadata": {},
            "source": [
                "## 线性代数 (p156)\n",
                "\n",
                "NumPy 的 `linalg` 模块提供线性代数运算，如矩阵乘法、求逆和 QR 分解。\n",
                "\n",
                "**关键点**：\n",
                "- `np.dot` 或 `@`：矩阵乘法。\n",
                "- `inv`：求矩阵逆。\n",
                "- `qr`：QR 分解，分解为正交矩阵 Q 和上三角矩阵 R。\n",
                "\n",
                "**预期输出**：\n",
                "- `x.dot(y)`：2x2 矩阵。\n",
                "- `x @ np.ones(3)`：`[6, 15]`。\n",
                "- `inv(mat)`：矩阵逆。\n",
                "- `q, r`：QR 分解结果。"
            ]
        },
        {
            "cell_type": "code",
            "execution_count": 7,
            "metadata": {},
            "outputs": [],
            "source": [
                "# 矩阵乘法\n",
                "x = np.array([[1., 2., 3.], [4., 5., 6.]])\n",
                "y = np.array([[6., 23.], [-1, 7], [8, 9]])\n",
                "x.dot(y)  # 矩阵乘法：2x2 矩阵\n",
                "\n",
                "# 使用 @ 运算符\n",
                "x @ np.ones(3)  # 矩阵与向量乘法，输出 [6, 15]\n",
                "\n",
                "# 线性代数运算\n",
                "from numpy.linalg import inv, qr\n",
                "X = rng.standard_normal((5, 5))  # 5x5 随机矩阵\n",
                "mat = X.T @ X  # 计算 X^T X\n",
                "inv(mat)  # 求逆\n",
                "mat @ inv(mat)  # 验证：接近单位矩阵\n",
                "q, r = qr(mat)  # QR 分解：q 为正交矩阵，r 为上三角矩阵"
            ]
        },
        {
            "cell_type": "markdown",
            "metadata": {},
            "source": [
                "## 伪随机数生成 (p159)\n",
                "\n",
                "NumPy 的 `random` 模块提供高效的伪随机数生成器，优于 Python 的 `random` 模块。\n",
                "\n",
                "**关键点**：\n",
                "- `rng.standard_normal`：生成标准正态分布随机数。\n",
                "- `random.normalvariate`（Python）：生成单个正态随机数，性能较低。\n",
                "\n",
                "**预期输出**：\n",
                "- `samples`：4x4 随机数组。\n",
                "- `%timeit`：NumPy 随机数生成比 Python 快得多。"
            ]
        },
        {
            "cell_type": "code",
            "execution_count": 60,
            "metadata": {},
            "outputs": [],
            "source": [
                "# NumPy 随机数生成\n",
                "samples = np.random.standard_normal(size=(4, 4))  # 4x4 标准正态分布数组\n",
                "\n",
                "# 使用默认随机数生成器\n",
                "rng = np.random.default_rng(seed=12345)  # 初始化随机数生成器\n",
                "data = rng.standard_normal((2, 3))  # 2x3 随机数组\n",
                "\n",
                "# 性能对比\n",
                "from random import normalvariate\n",
                "N = 1_000_000\n",
                "%timeit samples = [normalvariate(0, 1) for _ in range(N)]  # Python 方式\n",
                "%timeit np.random.standard_normal(N)  # NumPy 方式（更快）"
            ]
        },
        {
            "cell_type": "markdown",
            "metadata": {},
            "source": [
                "## 随机漫步 (p161)\n",
                "\n",
                "随机漫步是模拟随机过程的经典案例，NumPy 可高效实现单次或多次漫步。\n",
                "\n",
                "**关键点**：\n",
                "- 单次漫步：每次随机选择 +1 或 -1，累积位置。\n",
                "- 向量化实现：使用 `np.where` 和 `cumsum` 模拟漫步。\n",
                "\n",
                "**预期输出**：\n",
                "- `walk`：1000 步的漫步路径。\n",
                "- `walk.min()`、`walk.max()`：路径的最小值和最大值。\n",
                "- `(np.abs(walk) >= 10).argmax()`：第一次达到 ±10 的步数。"
            ]
        },
        {
            "cell_type": "code",
            "execution_count": 102,
            "metadata": {},
            "outputs": [],
            "source": [
                "# 单次随机漫步（Python 方式）\n",
                "import random\n",
                "position = 0\n",
                "walk = [position]\n",
                "nsteps = 1000\n",
                "for _ in range(nsteps):\n",
                "    step = 1 if random.randint(0, 1) else -1  # 随机选择 +1 或 -1\n",
                "    position += step\n",
                "    walk.append(position)\n",
                "\n",
                "# 绘图\n",
                "plt.figure()\n",
                "plt.plot(walk[:100])  # 绘制前 100 步\n",
                "\n",
                "# 向量化随机漫步（NumPy 方式）\n",
                "nsteps = 1000\n",
                "rng = np.random.default_rng(seed=12345)  # 初始化随机数生成器\n",
                "draws = rng.integers(0, 2, size=nsteps)  # 生成 0 或 1\n",
                "steps = np.where(draws == 0, 1, -1)  # 0 映射为 +1，1 映射为 -1\n",
                "walk = steps.cumsum()  # 累积和生成漫步路径\n",
                "\n",
                "# 分析漫步\n",
                "walk.min()  # 路径最小值\n",
                "walk.max()  # 路径最大值\n",
                "(np.abs(walk) >= 10).argmax()  # 第一次达到 ±10 的步数"
            ]
        },
        {
            "cell_type": "markdown",
            "metadata": {},
            "source": [
                "## 一次模拟多个随机漫步 (p163)\n",
                "\n",
                "NumPy 可高效模拟多个随机漫步，分析其统计特性，如达到特定阈值的次数和时间。\n",
                "\n",
                "**关键点**：\n",
                "- 使用二维数组模拟多个漫步：`walks = steps.cumsum(axis=1)`。\n",
                "- `any` 和 `argmax` 分析阈值到达情况。\n",
                "\n",
                "**预期输出**：\n",
                "- `walks`：5000x1000 的漫步路径数组。\n",
                "- `hits30.sum()`：达到 ±30 的漫步数量（约 3391）。\n",
                "- `crossing_times.mean()`：达到 ±30 的平均步数。\n",
                "- `draws`（正态分布）：连续值漫步。"
            ]
        },
        {
            "cell_type": "code",
            "execution_count": 13,
            "metadata": {},
            "outputs": [],
            "source": [
                "# 模拟多个随机漫步\n",
                "nwalks = 5000\n",
                "nsteps = 1000\n",
                "rng = np.random.default_rng(seed=12345)\n",
                "draws = rng.integers(0, 2, size=(nwalks, nsteps))  # 5000 条漫步，每条 1000 步\n",
                "steps = np.where(draws > 0, 1, -1)  # 0 映射为 -1，1 映射为 +1\n",
                "walks = steps.cumsum(axis=1)  # 沿第 1 轴累积和，生成路径\n",
                "\n",
                "# 分析\n",
                "walks.max()  # 所有漫步的最大值\n",
                "walks.min()  # 所有漫步的最小值\n",
                "\n",
                "# 检查达到 ±30 的漫步\n",
                "hits30 = (np.abs(walks) >= 30).any(axis=1)  # 每条漫步是否达到 ±30\n",
                "hits30.sum()  # 达到 ±30 的漫步数量\n",
                "\n",
                "# 计算第一次达到 ±30 的步数\n",
                "crossing_times = (np.abs(walks[hits30]) >= 30).argmax(axis=1)  # 第一次达到 ±30 的步数\n",
                "crossing_times.mean()  # 平均步数\n",
                "\n",
                "# 连续值随机漫步\n",
                "draws = 0.25 * rng.standard_normal((nwalks, nsteps))  # 正态分布步长，标准差 0.25"
            ]
        }
    ],
    "metadata": {
        "kernelspec": {
            "display_name": "Python 3 (ipykernel)",
            "language": "python",
            "name": "python3"
        },
        "language_info": {
            "codemirror_mode": {
                "name": "ipython",
                "version": 3
            },
            "file_extension": ".py",
            "mimetype": "text/x-python",
            "name": "python",
            "nbconvert_exporter": "python",
            "pygments_lexer": "ipython3",
            "version": "3.12.7"
        }
    },
    "nbformat": 4,
    "nbformat_minor": 4
}